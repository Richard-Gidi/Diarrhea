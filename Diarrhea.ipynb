{
 "cells": [
  {
   "cell_type": "markdown",
   "id": "6cf73ca7",
   "metadata": {},
   "source": [
    "# Importing modules to be used"
   ]
  },
  {
   "cell_type": "markdown",
   "id": "b94b1ca4",
   "metadata": {},
   "source": [
    "We start by importing the various modules we will be needing for our analysis"
   ]
  },
  {
   "cell_type": "code",
   "execution_count": 1,
   "id": "dc494e58",
   "metadata": {},
   "outputs": [],
   "source": [
    "import pandas as pd\n",
    "import numpy as np\n",
    "import matplotlib.pyplot as plt\n",
    "from sklearn import preprocessing,svm\n",
    "from sklearn.model_selection import train_test_split\n",
    "from sklearn.linear_model import LinearRegression\n",
    "%matplotlib inline\n",
    "import warnings\n",
    "warnings.filterwarnings('ignore')\n",
    "from matplotlib import rcParams\n",
    "import statsmodels.api as sm\n",
    "import seaborn as sns"
   ]
  },
  {
   "cell_type": "markdown",
   "id": "4ca8b58e",
   "metadata": {},
   "source": [
    "#  Importing Data Sets using Pandas"
   ]
  },
  {
   "cell_type": "markdown",
   "id": "2045be10",
   "metadata": {},
   "source": [
    "we load the data set by name 'dhsdata' into a dataframe named data"
   ]
  },
  {
   "cell_type": "code",
   "execution_count": 2,
   "id": "266d1f4c",
   "metadata": {},
   "outputs": [
    {
     "data": {
      "text/html": [
       "<div>\n",
       "<style scoped>\n",
       "    .dataframe tbody tr th:only-of-type {\n",
       "        vertical-align: middle;\n",
       "    }\n",
       "\n",
       "    .dataframe tbody tr th {\n",
       "        vertical-align: top;\n",
       "    }\n",
       "\n",
       "    .dataframe thead th {\n",
       "        text-align: right;\n",
       "    }\n",
       "</style>\n",
       "<table border=\"1\" class=\"dataframe\">\n",
       "  <thead>\n",
       "    <tr style=\"text-align: right;\">\n",
       "      <th></th>\n",
       "      <th>HV000</th>\n",
       "      <th>hhid</th>\n",
       "      <th>perweight</th>\n",
       "      <th>HV025</th>\n",
       "      <th>brsfedcat</th>\n",
       "      <th>kidsex</th>\n",
       "      <th>kidcurage</th>\n",
       "      <th>momAge</th>\n",
       "      <th>ageHHgroup</th>\n",
       "      <th>kidtwin</th>\n",
       "      <th>educlvl</th>\n",
       "      <th>momAgeGroup</th>\n",
       "      <th>marstat</th>\n",
       "      <th>religion</th>\n",
       "      <th>hwbmizwhocat</th>\n",
       "      <th>hhWealth</th>\n",
       "      <th>HHSize</th>\n",
       "      <th>HHSizeCat</th>\n",
       "      <th>diarrhea</th>\n",
       "    </tr>\n",
       "  </thead>\n",
       "  <tbody>\n",
       "    <tr>\n",
       "      <th>0</th>\n",
       "      <td>Burkina Faso (2010)</td>\n",
       "      <td>1 4</td>\n",
       "      <td>0.730967</td>\n",
       "      <td>Rural</td>\n",
       "      <td>still breastfeeding</td>\n",
       "      <td>female</td>\n",
       "      <td>less than 1 year</td>\n",
       "      <td>26</td>\n",
       "      <td>50+ years</td>\n",
       "      <td>single birth</td>\n",
       "      <td>no education</td>\n",
       "      <td>25-34 years</td>\n",
       "      <td>married</td>\n",
       "      <td>traditional</td>\n",
       "      <td>NaN</td>\n",
       "      <td>Poor</td>\n",
       "      <td>7</td>\n",
       "      <td>6 to 7</td>\n",
       "      <td>No</td>\n",
       "    </tr>\n",
       "    <tr>\n",
       "      <th>1</th>\n",
       "      <td>Burkina Faso (2010)</td>\n",
       "      <td>1 4</td>\n",
       "      <td>0.730967</td>\n",
       "      <td>Rural</td>\n",
       "      <td>ever breastfed</td>\n",
       "      <td>female</td>\n",
       "      <td>4 years</td>\n",
       "      <td>26</td>\n",
       "      <td>50+ years</td>\n",
       "      <td>single birth</td>\n",
       "      <td>no education</td>\n",
       "      <td>25-34 years</td>\n",
       "      <td>married</td>\n",
       "      <td>traditional</td>\n",
       "      <td>NaN</td>\n",
       "      <td>Poor</td>\n",
       "      <td>7</td>\n",
       "      <td>6 to 7</td>\n",
       "      <td>No</td>\n",
       "    </tr>\n",
       "    <tr>\n",
       "      <th>2</th>\n",
       "      <td>Burkina Faso (2010)</td>\n",
       "      <td>10 1</td>\n",
       "      <td>1.078176</td>\n",
       "      <td>Rural</td>\n",
       "      <td>still breastfeeding</td>\n",
       "      <td>female</td>\n",
       "      <td>1 year</td>\n",
       "      <td>15</td>\n",
       "      <td>25-34 years</td>\n",
       "      <td>single birth</td>\n",
       "      <td>no education</td>\n",
       "      <td>10-24 years</td>\n",
       "      <td>married</td>\n",
       "      <td>muslim</td>\n",
       "      <td>NaN</td>\n",
       "      <td>Poor</td>\n",
       "      <td>4</td>\n",
       "      <td>4 to 5</td>\n",
       "      <td>No</td>\n",
       "    </tr>\n",
       "    <tr>\n",
       "      <th>3</th>\n",
       "      <td>Burkina Faso (2010)</td>\n",
       "      <td>10 1</td>\n",
       "      <td>1.078176</td>\n",
       "      <td>Rural</td>\n",
       "      <td>ever breastfed</td>\n",
       "      <td>female</td>\n",
       "      <td>4 years</td>\n",
       "      <td>15</td>\n",
       "      <td>25-34 years</td>\n",
       "      <td>single birth</td>\n",
       "      <td>no education</td>\n",
       "      <td>10-24 years</td>\n",
       "      <td>married</td>\n",
       "      <td>muslim</td>\n",
       "      <td>NaN</td>\n",
       "      <td>Poor</td>\n",
       "      <td>4</td>\n",
       "      <td>4 to 5</td>\n",
       "      <td>No</td>\n",
       "    </tr>\n",
       "    <tr>\n",
       "      <th>4</th>\n",
       "      <td>Burkina Faso (2010)</td>\n",
       "      <td>10 3</td>\n",
       "      <td>1.078176</td>\n",
       "      <td>Rural</td>\n",
       "      <td>ever breastfed</td>\n",
       "      <td>female</td>\n",
       "      <td>2 years</td>\n",
       "      <td>11</td>\n",
       "      <td>&lt;25 years</td>\n",
       "      <td>single birth</td>\n",
       "      <td>no education</td>\n",
       "      <td>10-24 years</td>\n",
       "      <td>married</td>\n",
       "      <td>christian</td>\n",
       "      <td>NaN</td>\n",
       "      <td>Poor</td>\n",
       "      <td>4</td>\n",
       "      <td>4 to 5</td>\n",
       "      <td>No</td>\n",
       "    </tr>\n",
       "  </tbody>\n",
       "</table>\n",
       "</div>"
      ],
      "text/plain": [
       "                 HV000  hhid  perweight  HV025            brsfedcat  kidsex  \\\n",
       "0  Burkina Faso (2010)   1 4   0.730967  Rural  still breastfeeding  female   \n",
       "1  Burkina Faso (2010)   1 4   0.730967  Rural       ever breastfed  female   \n",
       "2  Burkina Faso (2010)  10 1   1.078176  Rural  still breastfeeding  female   \n",
       "3  Burkina Faso (2010)  10 1   1.078176  Rural       ever breastfed  female   \n",
       "4  Burkina Faso (2010)  10 3   1.078176  Rural       ever breastfed  female   \n",
       "\n",
       "          kidcurage  momAge   ageHHgroup       kidtwin       educlvl  \\\n",
       "0  less than 1 year      26    50+ years  single birth  no education   \n",
       "1           4 years      26    50+ years  single birth  no education   \n",
       "2            1 year      15  25-34 years  single birth  no education   \n",
       "3           4 years      15  25-34 years  single birth  no education   \n",
       "4           2 years      11    <25 years  single birth  no education   \n",
       "\n",
       "   momAgeGroup  marstat     religion hwbmizwhocat hhWealth  HHSize HHSizeCat  \\\n",
       "0  25-34 years  married  traditional          NaN     Poor       7    6 to 7   \n",
       "1  25-34 years  married  traditional          NaN     Poor       7    6 to 7   \n",
       "2  10-24 years  married       muslim          NaN     Poor       4    4 to 5   \n",
       "3  10-24 years  married       muslim          NaN     Poor       4    4 to 5   \n",
       "4  10-24 years  married    christian          NaN     Poor       4    4 to 5   \n",
       "\n",
       "  diarrhea  \n",
       "0       No  \n",
       "1       No  \n",
       "2       No  \n",
       "3       No  \n",
       "4       No  "
      ]
     },
     "execution_count": 2,
     "metadata": {},
     "output_type": "execute_result"
    }
   ],
   "source": [
    "data=pd.read_csv('dhsdata.csv')\n",
    "data.head()"
   ]
  },
  {
   "cell_type": "markdown",
   "id": "bf1b7609",
   "metadata": {},
   "source": [
    "#  Changing column names to become meaningful"
   ]
  },
  {
   "cell_type": "code",
   "execution_count": 3,
   "id": "3afd31f3",
   "metadata": {},
   "outputs": [
    {
     "data": {
      "text/plain": [
       "Index(['Country', 'Household id', 'Survey weights', 'Residency',\n",
       "       'Child breastfeeding status', 'Child gender', 'Child age',\n",
       "       'Mother's age', 'Age of head of household', 'Multiple births',\n",
       "       'Mother's education', 'Mother's age group', 'Mother's marital status',\n",
       "       'Religion', 'Mother's BMI status', 'Household wealth status',\n",
       "       'Household size continuous', 'Household size categorized', 'Diarrhea'],\n",
       "      dtype='object')"
      ]
     },
     "execution_count": 3,
     "metadata": {},
     "output_type": "execute_result"
    }
   ],
   "source": [
    "data.columns=['Country','Household id','Survey weights','Residency','Child breastfeeding status','Child gender','Child age',\"Mother's age\",'Age of head of household','Multiple births',\"Mother's education\",\"Mother's age group\",\"Mother's marital status\",'Religion',\"Mother's BMI status\",'Household wealth status','Household size continuous','Household size categorized','Diarrhea']\n",
    "data.columns"
   ]
  },
  {
   "cell_type": "markdown",
   "id": "1c2e04f7",
   "metadata": {},
   "source": [
    "# Checking to see if there are any missing values or NaN"
   ]
  },
  {
   "cell_type": "code",
   "execution_count": 4,
   "id": "a36e950b",
   "metadata": {},
   "outputs": [
    {
     "data": {
      "text/plain": [
       "Country                           0\n",
       "Household id                      0\n",
       "Survey weights                    0\n",
       "Residency                         0\n",
       "Child breastfeeding status    65019\n",
       "Child gender                      0\n",
       "Child age                         0\n",
       "Mother's age                      0\n",
       "Age of head of household         38\n",
       "Multiple births                   0\n",
       "Mother's education                5\n",
       "Mother's age group                0\n",
       "Mother's marital status           2\n",
       "Religion                       3532\n",
       "Mother's BMI status           50239\n",
       "Household wealth status           0\n",
       "Household size continuous         0\n",
       "Household size categorized        0\n",
       "Diarrhea                       1045\n",
       "dtype: int64"
      ]
     },
     "execution_count": 4,
     "metadata": {},
     "output_type": "execute_result"
    }
   ],
   "source": [
    "data.isna().sum()"
   ]
  },
  {
   "cell_type": "markdown",
   "id": "d3659307",
   "metadata": {},
   "source": [
    "As we can see above, we have 65019 NaN values for Child breastfeeding status, 3532 for Religion,50239 for Mother's BMI status  and 1045 for Diarrhea"
   ]
  },
  {
   "cell_type": "code",
   "execution_count": 5,
   "id": "a5980ec5",
   "metadata": {},
   "outputs": [
    {
     "data": {
      "text/plain": [
       "(84264, 19)"
      ]
     },
     "execution_count": 5,
     "metadata": {},
     "output_type": "execute_result"
    }
   ],
   "source": [
    "np.shape(data) #checking to see if removing the rows containing NaN will have a massive impact on our data and since the NaN forms a rather large proportion of the entire data so we would have to adjust that "
   ]
  },
  {
   "cell_type": "markdown",
   "id": "9daadd24",
   "metadata": {},
   "source": [
    "# Cleaning and correcting all missing values or NaN in the data"
   ]
  },
  {
   "cell_type": "code",
   "execution_count": 6,
   "id": "153fb223",
   "metadata": {},
   "outputs": [],
   "source": [
    "#data=data.fillna('Not Applicable')\n",
    "#data.head()"
   ]
  },
  {
   "cell_type": "code",
   "execution_count": 7,
   "id": "aab30834",
   "metadata": {},
   "outputs": [],
   "source": [
    "data.at[0,'Child age']= '0 year'"
   ]
  },
  {
   "cell_type": "code",
   "execution_count": 8,
   "id": "44511505",
   "metadata": {},
   "outputs": [
    {
     "data": {
      "text/plain": [
       "dtype('int64')"
      ]
     },
     "execution_count": 8,
     "metadata": {},
     "output_type": "execute_result"
    }
   ],
   "source": [
    "data['Child age'] = data['Child age'].str.replace('year','') \n",
    "data['Child age'] = data['Child age'].str.replace('s','')\n",
    "data['Child age'] = data['Child age'].str.replace('le than 1','0')\n",
    "data['Child age'].astype(int)  \n",
    "data['Child age'] = pd.to_numeric(data['Child age'])\n",
    "data['Child age'].dtype"
   ]
  },
  {
   "cell_type": "code",
   "execution_count": 9,
   "id": "d180d942",
   "metadata": {},
   "outputs": [
    {
     "data": {
      "text/plain": [
       "Country                           0\n",
       "Household id                      0\n",
       "Survey weights                    0\n",
       "Residency                         0\n",
       "Child breastfeeding status    65019\n",
       "Child gender                      0\n",
       "Child age                         0\n",
       "Mother's age                      0\n",
       "Age of head of household         38\n",
       "Multiple births                   0\n",
       "Mother's education                5\n",
       "Mother's age group                0\n",
       "Mother's marital status           2\n",
       "Religion                       3532\n",
       "Mother's BMI status           50239\n",
       "Household wealth status           0\n",
       "Household size continuous         0\n",
       "Household size categorized        0\n",
       "Diarrhea                       1045\n",
       "dtype: int64"
      ]
     },
     "execution_count": 9,
     "metadata": {},
     "output_type": "execute_result"
    }
   ],
   "source": [
    "data.isna().sum()"
   ]
  },
  {
   "cell_type": "markdown",
   "id": "29f75fc7",
   "metadata": {},
   "source": [
    "# Exploring the data to see what kind of data types we are working with"
   ]
  },
  {
   "cell_type": "code",
   "execution_count": 10,
   "id": "d59c93e3",
   "metadata": {},
   "outputs": [
    {
     "name": "stdout",
     "output_type": "stream",
     "text": [
      "<class 'pandas.core.frame.DataFrame'>\n",
      "RangeIndex: 84264 entries, 0 to 84263\n",
      "Data columns (total 19 columns):\n",
      " #   Column                      Non-Null Count  Dtype  \n",
      "---  ------                      --------------  -----  \n",
      " 0   Country                     84264 non-null  object \n",
      " 1   Household id                84264 non-null  object \n",
      " 2   Survey weights              84264 non-null  float64\n",
      " 3   Residency                   84264 non-null  object \n",
      " 4   Child breastfeeding status  19245 non-null  object \n",
      " 5   Child gender                84264 non-null  object \n",
      " 6   Child age                   84264 non-null  int64  \n",
      " 7   Mother's age                84264 non-null  int64  \n",
      " 8   Age of head of household    84226 non-null  object \n",
      " 9   Multiple births             84264 non-null  object \n",
      " 10  Mother's education          84259 non-null  object \n",
      " 11  Mother's age group          84264 non-null  object \n",
      " 12  Mother's marital status     84262 non-null  object \n",
      " 13  Religion                    80732 non-null  object \n",
      " 14  Mother's BMI status         34025 non-null  object \n",
      " 15  Household wealth status     84264 non-null  object \n",
      " 16  Household size continuous   84264 non-null  int64  \n",
      " 17  Household size categorized  84264 non-null  object \n",
      " 18  Diarrhea                    83219 non-null  object \n",
      "dtypes: float64(1), int64(3), object(15)\n",
      "memory usage: 12.2+ MB\n"
     ]
    }
   ],
   "source": [
    "data.info()"
   ]
  },
  {
   "cell_type": "markdown",
   "id": "c96d31d9",
   "metadata": {},
   "source": [
    "#  Specifying a subset of the data to work with"
   ]
  },
  {
   "cell_type": "code",
   "execution_count": 11,
   "id": "e9a94df3",
   "metadata": {},
   "outputs": [
    {
     "data": {
      "text/html": [
       "<div>\n",
       "<style scoped>\n",
       "    .dataframe tbody tr th:only-of-type {\n",
       "        vertical-align: middle;\n",
       "    }\n",
       "\n",
       "    .dataframe tbody tr th {\n",
       "        vertical-align: top;\n",
       "    }\n",
       "\n",
       "    .dataframe thead th {\n",
       "        text-align: right;\n",
       "    }\n",
       "</style>\n",
       "<table border=\"1\" class=\"dataframe\">\n",
       "  <thead>\n",
       "    <tr style=\"text-align: right;\">\n",
       "      <th></th>\n",
       "      <th>Country</th>\n",
       "      <th>Household id</th>\n",
       "      <th>Survey weights</th>\n",
       "      <th>Residency</th>\n",
       "      <th>Child breastfeeding status</th>\n",
       "      <th>Child gender</th>\n",
       "      <th>Child age</th>\n",
       "      <th>Mother's age</th>\n",
       "      <th>Age of head of household</th>\n",
       "      <th>Multiple births</th>\n",
       "      <th>Mother's education</th>\n",
       "      <th>Mother's age group</th>\n",
       "      <th>Mother's marital status</th>\n",
       "      <th>Religion</th>\n",
       "      <th>Mother's BMI status</th>\n",
       "      <th>Household wealth status</th>\n",
       "      <th>Household size continuous</th>\n",
       "      <th>Household size categorized</th>\n",
       "      <th>Diarrhea</th>\n",
       "    </tr>\n",
       "  </thead>\n",
       "  <tbody>\n",
       "    <tr>\n",
       "      <th>0</th>\n",
       "      <td>Burkina Faso (2010)</td>\n",
       "      <td>1 4</td>\n",
       "      <td>0.730967</td>\n",
       "      <td>Rural</td>\n",
       "      <td>still breastfeeding</td>\n",
       "      <td>female</td>\n",
       "      <td>0</td>\n",
       "      <td>26</td>\n",
       "      <td>50+ years</td>\n",
       "      <td>single birth</td>\n",
       "      <td>no education</td>\n",
       "      <td>25-34 years</td>\n",
       "      <td>married</td>\n",
       "      <td>traditional</td>\n",
       "      <td>NaN</td>\n",
       "      <td>Poor</td>\n",
       "      <td>7</td>\n",
       "      <td>6 to 7</td>\n",
       "      <td>No</td>\n",
       "    </tr>\n",
       "    <tr>\n",
       "      <th>1</th>\n",
       "      <td>Burkina Faso (2010)</td>\n",
       "      <td>1 4</td>\n",
       "      <td>0.730967</td>\n",
       "      <td>Rural</td>\n",
       "      <td>ever breastfed</td>\n",
       "      <td>female</td>\n",
       "      <td>4</td>\n",
       "      <td>26</td>\n",
       "      <td>50+ years</td>\n",
       "      <td>single birth</td>\n",
       "      <td>no education</td>\n",
       "      <td>25-34 years</td>\n",
       "      <td>married</td>\n",
       "      <td>traditional</td>\n",
       "      <td>NaN</td>\n",
       "      <td>Poor</td>\n",
       "      <td>7</td>\n",
       "      <td>6 to 7</td>\n",
       "      <td>No</td>\n",
       "    </tr>\n",
       "    <tr>\n",
       "      <th>2</th>\n",
       "      <td>Burkina Faso (2010)</td>\n",
       "      <td>10 1</td>\n",
       "      <td>1.078176</td>\n",
       "      <td>Rural</td>\n",
       "      <td>still breastfeeding</td>\n",
       "      <td>female</td>\n",
       "      <td>1</td>\n",
       "      <td>15</td>\n",
       "      <td>25-34 years</td>\n",
       "      <td>single birth</td>\n",
       "      <td>no education</td>\n",
       "      <td>10-24 years</td>\n",
       "      <td>married</td>\n",
       "      <td>muslim</td>\n",
       "      <td>NaN</td>\n",
       "      <td>Poor</td>\n",
       "      <td>4</td>\n",
       "      <td>4 to 5</td>\n",
       "      <td>No</td>\n",
       "    </tr>\n",
       "    <tr>\n",
       "      <th>3</th>\n",
       "      <td>Burkina Faso (2010)</td>\n",
       "      <td>10 1</td>\n",
       "      <td>1.078176</td>\n",
       "      <td>Rural</td>\n",
       "      <td>ever breastfed</td>\n",
       "      <td>female</td>\n",
       "      <td>4</td>\n",
       "      <td>15</td>\n",
       "      <td>25-34 years</td>\n",
       "      <td>single birth</td>\n",
       "      <td>no education</td>\n",
       "      <td>10-24 years</td>\n",
       "      <td>married</td>\n",
       "      <td>muslim</td>\n",
       "      <td>NaN</td>\n",
       "      <td>Poor</td>\n",
       "      <td>4</td>\n",
       "      <td>4 to 5</td>\n",
       "      <td>No</td>\n",
       "    </tr>\n",
       "    <tr>\n",
       "      <th>4</th>\n",
       "      <td>Burkina Faso (2010)</td>\n",
       "      <td>10 3</td>\n",
       "      <td>1.078176</td>\n",
       "      <td>Rural</td>\n",
       "      <td>ever breastfed</td>\n",
       "      <td>female</td>\n",
       "      <td>2</td>\n",
       "      <td>11</td>\n",
       "      <td>&lt;25 years</td>\n",
       "      <td>single birth</td>\n",
       "      <td>no education</td>\n",
       "      <td>10-24 years</td>\n",
       "      <td>married</td>\n",
       "      <td>christian</td>\n",
       "      <td>NaN</td>\n",
       "      <td>Poor</td>\n",
       "      <td>4</td>\n",
       "      <td>4 to 5</td>\n",
       "      <td>No</td>\n",
       "    </tr>\n",
       "  </tbody>\n",
       "</table>\n",
       "</div>"
      ],
      "text/plain": [
       "               Country Household id  Survey weights Residency  \\\n",
       "0  Burkina Faso (2010)          1 4        0.730967     Rural   \n",
       "1  Burkina Faso (2010)          1 4        0.730967     Rural   \n",
       "2  Burkina Faso (2010)         10 1        1.078176     Rural   \n",
       "3  Burkina Faso (2010)         10 1        1.078176     Rural   \n",
       "4  Burkina Faso (2010)         10 3        1.078176     Rural   \n",
       "\n",
       "  Child breastfeeding status Child gender  Child age  Mother's age  \\\n",
       "0        still breastfeeding       female          0            26   \n",
       "1             ever breastfed       female          4            26   \n",
       "2        still breastfeeding       female          1            15   \n",
       "3             ever breastfed       female          4            15   \n",
       "4             ever breastfed       female          2            11   \n",
       "\n",
       "  Age of head of household Multiple births Mother's education  \\\n",
       "0                50+ years    single birth       no education   \n",
       "1                50+ years    single birth       no education   \n",
       "2              25-34 years    single birth       no education   \n",
       "3              25-34 years    single birth       no education   \n",
       "4                <25 years    single birth       no education   \n",
       "\n",
       "  Mother's age group Mother's marital status     Religion Mother's BMI status  \\\n",
       "0        25-34 years                 married  traditional                 NaN   \n",
       "1        25-34 years                 married  traditional                 NaN   \n",
       "2        10-24 years                 married       muslim                 NaN   \n",
       "3        10-24 years                 married       muslim                 NaN   \n",
       "4        10-24 years                 married    christian                 NaN   \n",
       "\n",
       "  Household wealth status  Household size continuous  \\\n",
       "0                    Poor                          7   \n",
       "1                    Poor                          7   \n",
       "2                    Poor                          4   \n",
       "3                    Poor                          4   \n",
       "4                    Poor                          4   \n",
       "\n",
       "  Household size categorized Diarrhea  \n",
       "0                     6 to 7       No  \n",
       "1                     6 to 7       No  \n",
       "2                     4 to 5       No  \n",
       "3                     4 to 5       No  \n",
       "4                     4 to 5       No  "
      ]
     },
     "execution_count": 11,
     "metadata": {},
     "output_type": "execute_result"
    }
   ],
   "source": [
    "sub_data= data['Country'] == 'Burkina Faso (2010)'\n",
    "sub_Faso=data[sub_data]\n",
    "sub_Faso.head()"
   ]
  },
  {
   "cell_type": "markdown",
   "id": "92b98df9",
   "metadata": {},
   "source": [
    "#  Exploring the PDFs"
   ]
  },
  {
   "cell_type": "code",
   "execution_count": 12,
   "id": "b9341751",
   "metadata": {},
   "outputs": [
    {
     "data": {
      "text/html": [
       "<div>\n",
       "<style scoped>\n",
       "    .dataframe tbody tr th:only-of-type {\n",
       "        vertical-align: middle;\n",
       "    }\n",
       "\n",
       "    .dataframe tbody tr th {\n",
       "        vertical-align: top;\n",
       "    }\n",
       "\n",
       "    .dataframe thead th {\n",
       "        text-align: right;\n",
       "    }\n",
       "</style>\n",
       "<table border=\"1\" class=\"dataframe\">\n",
       "  <thead>\n",
       "    <tr style=\"text-align: right;\">\n",
       "      <th></th>\n",
       "      <th>Country</th>\n",
       "      <th>Household id</th>\n",
       "      <th>Survey weights</th>\n",
       "      <th>Residency</th>\n",
       "      <th>Child breastfeeding status</th>\n",
       "      <th>Child gender</th>\n",
       "      <th>Child age</th>\n",
       "      <th>Mother's age</th>\n",
       "      <th>Age of head of household</th>\n",
       "      <th>Multiple births</th>\n",
       "      <th>Mother's education</th>\n",
       "      <th>Mother's age group</th>\n",
       "      <th>Mother's marital status</th>\n",
       "      <th>Religion</th>\n",
       "      <th>Mother's BMI status</th>\n",
       "      <th>Household wealth status</th>\n",
       "      <th>Household size continuous</th>\n",
       "      <th>Household size categorized</th>\n",
       "      <th>Diarrhea</th>\n",
       "    </tr>\n",
       "  </thead>\n",
       "  <tbody>\n",
       "    <tr>\n",
       "      <th>count</th>\n",
       "      <td>13716</td>\n",
       "      <td>13716</td>\n",
       "      <td>13716.000000</td>\n",
       "      <td>13716</td>\n",
       "      <td>13654</td>\n",
       "      <td>13716</td>\n",
       "      <td>13716.000000</td>\n",
       "      <td>13716.000000</td>\n",
       "      <td>13715</td>\n",
       "      <td>13716</td>\n",
       "      <td>13711</td>\n",
       "      <td>13716</td>\n",
       "      <td>13714</td>\n",
       "      <td>13677</td>\n",
       "      <td>6532</td>\n",
       "      <td>13716</td>\n",
       "      <td>13716.000000</td>\n",
       "      <td>13716</td>\n",
       "      <td>13621</td>\n",
       "    </tr>\n",
       "    <tr>\n",
       "      <th>unique</th>\n",
       "      <td>1</td>\n",
       "      <td>8382</td>\n",
       "      <td>NaN</td>\n",
       "      <td>2</td>\n",
       "      <td>3</td>\n",
       "      <td>2</td>\n",
       "      <td>NaN</td>\n",
       "      <td>NaN</td>\n",
       "      <td>4</td>\n",
       "      <td>2</td>\n",
       "      <td>4</td>\n",
       "      <td>3</td>\n",
       "      <td>3</td>\n",
       "      <td>4</td>\n",
       "      <td>4</td>\n",
       "      <td>3</td>\n",
       "      <td>NaN</td>\n",
       "      <td>5</td>\n",
       "      <td>2</td>\n",
       "    </tr>\n",
       "    <tr>\n",
       "      <th>top</th>\n",
       "      <td>Burkina Faso (2010)</td>\n",
       "      <td>436 9</td>\n",
       "      <td>NaN</td>\n",
       "      <td>Rural</td>\n",
       "      <td>ever breastfed</td>\n",
       "      <td>male</td>\n",
       "      <td>NaN</td>\n",
       "      <td>NaN</td>\n",
       "      <td>35-49 years</td>\n",
       "      <td>single birth</td>\n",
       "      <td>no education</td>\n",
       "      <td>10-24 years</td>\n",
       "      <td>married</td>\n",
       "      <td>muslim</td>\n",
       "      <td>normal</td>\n",
       "      <td>Poor</td>\n",
       "      <td>NaN</td>\n",
       "      <td>8+</td>\n",
       "      <td>No</td>\n",
       "    </tr>\n",
       "    <tr>\n",
       "      <th>freq</th>\n",
       "      <td>13716</td>\n",
       "      <td>8</td>\n",
       "      <td>NaN</td>\n",
       "      <td>10671</td>\n",
       "      <td>7503</td>\n",
       "      <td>6932</td>\n",
       "      <td>NaN</td>\n",
       "      <td>NaN</td>\n",
       "      <td>6047</td>\n",
       "      <td>13303</td>\n",
       "      <td>11361</td>\n",
       "      <td>10038</td>\n",
       "      <td>12801</td>\n",
       "      <td>8518</td>\n",
       "      <td>5396</td>\n",
       "      <td>5462</td>\n",
       "      <td>NaN</td>\n",
       "      <td>5835</td>\n",
       "      <td>11590</td>\n",
       "    </tr>\n",
       "    <tr>\n",
       "      <th>mean</th>\n",
       "      <td>NaN</td>\n",
       "      <td>NaN</td>\n",
       "      <td>1.020804</td>\n",
       "      <td>NaN</td>\n",
       "      <td>NaN</td>\n",
       "      <td>NaN</td>\n",
       "      <td>1.944955</td>\n",
       "      <td>20.251312</td>\n",
       "      <td>NaN</td>\n",
       "      <td>NaN</td>\n",
       "      <td>NaN</td>\n",
       "      <td>NaN</td>\n",
       "      <td>NaN</td>\n",
       "      <td>NaN</td>\n",
       "      <td>NaN</td>\n",
       "      <td>NaN</td>\n",
       "      <td>7.791922</td>\n",
       "      <td>NaN</td>\n",
       "      <td>NaN</td>\n",
       "    </tr>\n",
       "    <tr>\n",
       "      <th>std</th>\n",
       "      <td>NaN</td>\n",
       "      <td>NaN</td>\n",
       "      <td>0.436741</td>\n",
       "      <td>NaN</td>\n",
       "      <td>NaN</td>\n",
       "      <td>NaN</td>\n",
       "      <td>1.414972</td>\n",
       "      <td>6.858184</td>\n",
       "      <td>NaN</td>\n",
       "      <td>NaN</td>\n",
       "      <td>NaN</td>\n",
       "      <td>NaN</td>\n",
       "      <td>NaN</td>\n",
       "      <td>NaN</td>\n",
       "      <td>NaN</td>\n",
       "      <td>NaN</td>\n",
       "      <td>4.122939</td>\n",
       "      <td>NaN</td>\n",
       "      <td>NaN</td>\n",
       "    </tr>\n",
       "    <tr>\n",
       "      <th>min</th>\n",
       "      <td>NaN</td>\n",
       "      <td>NaN</td>\n",
       "      <td>0.203181</td>\n",
       "      <td>NaN</td>\n",
       "      <td>NaN</td>\n",
       "      <td>NaN</td>\n",
       "      <td>0.000000</td>\n",
       "      <td>6.000000</td>\n",
       "      <td>NaN</td>\n",
       "      <td>NaN</td>\n",
       "      <td>NaN</td>\n",
       "      <td>NaN</td>\n",
       "      <td>NaN</td>\n",
       "      <td>NaN</td>\n",
       "      <td>NaN</td>\n",
       "      <td>NaN</td>\n",
       "      <td>1.000000</td>\n",
       "      <td>NaN</td>\n",
       "      <td>NaN</td>\n",
       "    </tr>\n",
       "    <tr>\n",
       "      <th>25%</th>\n",
       "      <td>NaN</td>\n",
       "      <td>NaN</td>\n",
       "      <td>0.695431</td>\n",
       "      <td>NaN</td>\n",
       "      <td>NaN</td>\n",
       "      <td>NaN</td>\n",
       "      <td>1.000000</td>\n",
       "      <td>15.000000</td>\n",
       "      <td>NaN</td>\n",
       "      <td>NaN</td>\n",
       "      <td>NaN</td>\n",
       "      <td>NaN</td>\n",
       "      <td>NaN</td>\n",
       "      <td>NaN</td>\n",
       "      <td>NaN</td>\n",
       "      <td>NaN</td>\n",
       "      <td>5.000000</td>\n",
       "      <td>NaN</td>\n",
       "      <td>NaN</td>\n",
       "    </tr>\n",
       "    <tr>\n",
       "      <th>50%</th>\n",
       "      <td>NaN</td>\n",
       "      <td>NaN</td>\n",
       "      <td>0.991436</td>\n",
       "      <td>NaN</td>\n",
       "      <td>NaN</td>\n",
       "      <td>NaN</td>\n",
       "      <td>2.000000</td>\n",
       "      <td>19.000000</td>\n",
       "      <td>NaN</td>\n",
       "      <td>NaN</td>\n",
       "      <td>NaN</td>\n",
       "      <td>NaN</td>\n",
       "      <td>NaN</td>\n",
       "      <td>NaN</td>\n",
       "      <td>NaN</td>\n",
       "      <td>NaN</td>\n",
       "      <td>7.000000</td>\n",
       "      <td>NaN</td>\n",
       "      <td>NaN</td>\n",
       "    </tr>\n",
       "    <tr>\n",
       "      <th>75%</th>\n",
       "      <td>NaN</td>\n",
       "      <td>NaN</td>\n",
       "      <td>1.312710</td>\n",
       "      <td>NaN</td>\n",
       "      <td>NaN</td>\n",
       "      <td>NaN</td>\n",
       "      <td>3.000000</td>\n",
       "      <td>25.000000</td>\n",
       "      <td>NaN</td>\n",
       "      <td>NaN</td>\n",
       "      <td>NaN</td>\n",
       "      <td>NaN</td>\n",
       "      <td>NaN</td>\n",
       "      <td>NaN</td>\n",
       "      <td>NaN</td>\n",
       "      <td>NaN</td>\n",
       "      <td>10.000000</td>\n",
       "      <td>NaN</td>\n",
       "      <td>NaN</td>\n",
       "    </tr>\n",
       "    <tr>\n",
       "      <th>max</th>\n",
       "      <td>NaN</td>\n",
       "      <td>NaN</td>\n",
       "      <td>2.959189</td>\n",
       "      <td>NaN</td>\n",
       "      <td>NaN</td>\n",
       "      <td>NaN</td>\n",
       "      <td>4.000000</td>\n",
       "      <td>40.000000</td>\n",
       "      <td>NaN</td>\n",
       "      <td>NaN</td>\n",
       "      <td>NaN</td>\n",
       "      <td>NaN</td>\n",
       "      <td>NaN</td>\n",
       "      <td>NaN</td>\n",
       "      <td>NaN</td>\n",
       "      <td>NaN</td>\n",
       "      <td>49.000000</td>\n",
       "      <td>NaN</td>\n",
       "      <td>NaN</td>\n",
       "    </tr>\n",
       "  </tbody>\n",
       "</table>\n",
       "</div>"
      ],
      "text/plain": [
       "                    Country Household id  Survey weights Residency  \\\n",
       "count                 13716        13716    13716.000000     13716   \n",
       "unique                    1         8382             NaN         2   \n",
       "top     Burkina Faso (2010)        436 9             NaN     Rural   \n",
       "freq                  13716            8             NaN     10671   \n",
       "mean                    NaN          NaN        1.020804       NaN   \n",
       "std                     NaN          NaN        0.436741       NaN   \n",
       "min                     NaN          NaN        0.203181       NaN   \n",
       "25%                     NaN          NaN        0.695431       NaN   \n",
       "50%                     NaN          NaN        0.991436       NaN   \n",
       "75%                     NaN          NaN        1.312710       NaN   \n",
       "max                     NaN          NaN        2.959189       NaN   \n",
       "\n",
       "       Child breastfeeding status Child gender     Child age  Mother's age  \\\n",
       "count                       13654        13716  13716.000000  13716.000000   \n",
       "unique                          3            2           NaN           NaN   \n",
       "top                ever breastfed         male           NaN           NaN   \n",
       "freq                         7503         6932           NaN           NaN   \n",
       "mean                          NaN          NaN      1.944955     20.251312   \n",
       "std                           NaN          NaN      1.414972      6.858184   \n",
       "min                           NaN          NaN      0.000000      6.000000   \n",
       "25%                           NaN          NaN      1.000000     15.000000   \n",
       "50%                           NaN          NaN      2.000000     19.000000   \n",
       "75%                           NaN          NaN      3.000000     25.000000   \n",
       "max                           NaN          NaN      4.000000     40.000000   \n",
       "\n",
       "       Age of head of household Multiple births Mother's education  \\\n",
       "count                     13715           13716              13711   \n",
       "unique                        4               2                  4   \n",
       "top                 35-49 years    single birth       no education   \n",
       "freq                       6047           13303              11361   \n",
       "mean                        NaN             NaN                NaN   \n",
       "std                         NaN             NaN                NaN   \n",
       "min                         NaN             NaN                NaN   \n",
       "25%                         NaN             NaN                NaN   \n",
       "50%                         NaN             NaN                NaN   \n",
       "75%                         NaN             NaN                NaN   \n",
       "max                         NaN             NaN                NaN   \n",
       "\n",
       "       Mother's age group Mother's marital status Religion  \\\n",
       "count               13716                   13714    13677   \n",
       "unique                  3                       3        4   \n",
       "top           10-24 years                 married   muslim   \n",
       "freq                10038                   12801     8518   \n",
       "mean                  NaN                     NaN      NaN   \n",
       "std                   NaN                     NaN      NaN   \n",
       "min                   NaN                     NaN      NaN   \n",
       "25%                   NaN                     NaN      NaN   \n",
       "50%                   NaN                     NaN      NaN   \n",
       "75%                   NaN                     NaN      NaN   \n",
       "max                   NaN                     NaN      NaN   \n",
       "\n",
       "       Mother's BMI status Household wealth status  Household size continuous  \\\n",
       "count                 6532                   13716               13716.000000   \n",
       "unique                   4                       3                        NaN   \n",
       "top                 normal                    Poor                        NaN   \n",
       "freq                  5396                    5462                        NaN   \n",
       "mean                   NaN                     NaN                   7.791922   \n",
       "std                    NaN                     NaN                   4.122939   \n",
       "min                    NaN                     NaN                   1.000000   \n",
       "25%                    NaN                     NaN                   5.000000   \n",
       "50%                    NaN                     NaN                   7.000000   \n",
       "75%                    NaN                     NaN                  10.000000   \n",
       "max                    NaN                     NaN                  49.000000   \n",
       "\n",
       "       Household size categorized Diarrhea  \n",
       "count                       13716    13621  \n",
       "unique                          5        2  \n",
       "top                            8+       No  \n",
       "freq                         5835    11590  \n",
       "mean                          NaN      NaN  \n",
       "std                           NaN      NaN  \n",
       "min                           NaN      NaN  \n",
       "25%                           NaN      NaN  \n",
       "50%                           NaN      NaN  \n",
       "75%                           NaN      NaN  \n",
       "max                           NaN      NaN  "
      ]
     },
     "execution_count": 12,
     "metadata": {},
     "output_type": "execute_result"
    }
   ],
   "source": [
    "sub_Faso.describe(include='all')"
   ]
  },
  {
   "cell_type": "code",
   "execution_count": 13,
   "id": "68486ea3",
   "metadata": {},
   "outputs": [
    {
     "data": {
      "text/plain": [
       "<AxesSubplot:xlabel='Household size continuous', ylabel='count'>"
      ]
     },
     "execution_count": 13,
     "metadata": {},
     "output_type": "execute_result"
    },
    {
     "data": {
      "image/png": "[encoded data removed]",
      "text/plain": [
       "<Figure size 432x288 with 1 Axes>"
      ]
     },
     "metadata": {
      "needs_background": "light"
     },
     "output_type": "display_data"
    }
   ],
   "source": [
    "sns.countplot(sub_Faso['Household size continuous'])"
   ]
  },
  {
   "cell_type": "markdown",
   "id": "2dea0983",
   "metadata": {},
   "source": [
    "# Dealing with outliers"
   ]
  },
  {
   "cell_type": "code",
   "execution_count": 14,
   "id": "8453d266",
   "metadata": {},
   "outputs": [
    {
     "data": {
      "text/html": [
       "<div>\n",
       "<style scoped>\n",
       "    .dataframe tbody tr th:only-of-type {\n",
       "        vertical-align: middle;\n",
       "    }\n",
       "\n",
       "    .dataframe tbody tr th {\n",
       "        vertical-align: top;\n",
       "    }\n",
       "\n",
       "    .dataframe thead th {\n",
       "        text-align: right;\n",
       "    }\n",
       "</style>\n",
       "<table border=\"1\" class=\"dataframe\">\n",
       "  <thead>\n",
       "    <tr style=\"text-align: right;\">\n",
       "      <th></th>\n",
       "      <th>Country</th>\n",
       "      <th>Household id</th>\n",
       "      <th>Survey weights</th>\n",
       "      <th>Residency</th>\n",
       "      <th>Child breastfeeding status</th>\n",
       "      <th>Child gender</th>\n",
       "      <th>Child age</th>\n",
       "      <th>Mother's age</th>\n",
       "      <th>Age of head of household</th>\n",
       "      <th>Multiple births</th>\n",
       "      <th>Mother's education</th>\n",
       "      <th>Mother's age group</th>\n",
       "      <th>Mother's marital status</th>\n",
       "      <th>Religion</th>\n",
       "      <th>Mother's BMI status</th>\n",
       "      <th>Household wealth status</th>\n",
       "      <th>Household size continuous</th>\n",
       "      <th>Household size categorized</th>\n",
       "      <th>Diarrhea</th>\n",
       "    </tr>\n",
       "  </thead>\n",
       "  <tbody>\n",
       "    <tr>\n",
       "      <th>count</th>\n",
       "      <td>13570</td>\n",
       "      <td>13570</td>\n",
       "      <td>13570.000000</td>\n",
       "      <td>13570</td>\n",
       "      <td>13508</td>\n",
       "      <td>13570</td>\n",
       "      <td>13570.000000</td>\n",
       "      <td>13570.000000</td>\n",
       "      <td>13569</td>\n",
       "      <td>13570</td>\n",
       "      <td>13565</td>\n",
       "      <td>13570</td>\n",
       "      <td>13568</td>\n",
       "      <td>13531</td>\n",
       "      <td>6493</td>\n",
       "      <td>13570</td>\n",
       "      <td>13570.000000</td>\n",
       "      <td>13570</td>\n",
       "      <td>13475</td>\n",
       "    </tr>\n",
       "    <tr>\n",
       "      <th>unique</th>\n",
       "      <td>1</td>\n",
       "      <td>8345</td>\n",
       "      <td>NaN</td>\n",
       "      <td>2</td>\n",
       "      <td>3</td>\n",
       "      <td>2</td>\n",
       "      <td>NaN</td>\n",
       "      <td>NaN</td>\n",
       "      <td>4</td>\n",
       "      <td>2</td>\n",
       "      <td>4</td>\n",
       "      <td>3</td>\n",
       "      <td>3</td>\n",
       "      <td>4</td>\n",
       "      <td>4</td>\n",
       "      <td>3</td>\n",
       "      <td>NaN</td>\n",
       "      <td>5</td>\n",
       "      <td>2</td>\n",
       "    </tr>\n",
       "    <tr>\n",
       "      <th>top</th>\n",
       "      <td>Burkina Faso (2010)</td>\n",
       "      <td>522 7</td>\n",
       "      <td>NaN</td>\n",
       "      <td>Rural</td>\n",
       "      <td>ever breastfed</td>\n",
       "      <td>male</td>\n",
       "      <td>NaN</td>\n",
       "      <td>NaN</td>\n",
       "      <td>35-49 years</td>\n",
       "      <td>single birth</td>\n",
       "      <td>no education</td>\n",
       "      <td>10-24 years</td>\n",
       "      <td>married</td>\n",
       "      <td>muslim</td>\n",
       "      <td>normal</td>\n",
       "      <td>Poor</td>\n",
       "      <td>NaN</td>\n",
       "      <td>8+</td>\n",
       "      <td>No</td>\n",
       "    </tr>\n",
       "    <tr>\n",
       "      <th>freq</th>\n",
       "      <td>13570</td>\n",
       "      <td>8</td>\n",
       "      <td>NaN</td>\n",
       "      <td>10554</td>\n",
       "      <td>7419</td>\n",
       "      <td>6859</td>\n",
       "      <td>NaN</td>\n",
       "      <td>NaN</td>\n",
       "      <td>6013</td>\n",
       "      <td>13159</td>\n",
       "      <td>11237</td>\n",
       "      <td>9963</td>\n",
       "      <td>12669</td>\n",
       "      <td>8439</td>\n",
       "      <td>5361</td>\n",
       "      <td>5432</td>\n",
       "      <td>NaN</td>\n",
       "      <td>5689</td>\n",
       "      <td>11473</td>\n",
       "    </tr>\n",
       "    <tr>\n",
       "      <th>mean</th>\n",
       "      <td>NaN</td>\n",
       "      <td>NaN</td>\n",
       "      <td>1.021920</td>\n",
       "      <td>NaN</td>\n",
       "      <td>NaN</td>\n",
       "      <td>NaN</td>\n",
       "      <td>1.945099</td>\n",
       "      <td>20.217907</td>\n",
       "      <td>NaN</td>\n",
       "      <td>NaN</td>\n",
       "      <td>NaN</td>\n",
       "      <td>NaN</td>\n",
       "      <td>NaN</td>\n",
       "      <td>NaN</td>\n",
       "      <td>NaN</td>\n",
       "      <td>NaN</td>\n",
       "      <td>7.603832</td>\n",
       "      <td>NaN</td>\n",
       "      <td>NaN</td>\n",
       "    </tr>\n",
       "    <tr>\n",
       "      <th>std</th>\n",
       "      <td>NaN</td>\n",
       "      <td>NaN</td>\n",
       "      <td>0.436616</td>\n",
       "      <td>NaN</td>\n",
       "      <td>NaN</td>\n",
       "      <td>NaN</td>\n",
       "      <td>1.414060</td>\n",
       "      <td>6.844345</td>\n",
       "      <td>NaN</td>\n",
       "      <td>NaN</td>\n",
       "      <td>NaN</td>\n",
       "      <td>NaN</td>\n",
       "      <td>NaN</td>\n",
       "      <td>NaN</td>\n",
       "      <td>NaN</td>\n",
       "      <td>NaN</td>\n",
       "      <td>3.682956</td>\n",
       "      <td>NaN</td>\n",
       "      <td>NaN</td>\n",
       "    </tr>\n",
       "    <tr>\n",
       "      <th>min</th>\n",
       "      <td>NaN</td>\n",
       "      <td>NaN</td>\n",
       "      <td>0.203181</td>\n",
       "      <td>NaN</td>\n",
       "      <td>NaN</td>\n",
       "      <td>NaN</td>\n",
       "      <td>0.000000</td>\n",
       "      <td>6.000000</td>\n",
       "      <td>NaN</td>\n",
       "      <td>NaN</td>\n",
       "      <td>NaN</td>\n",
       "      <td>NaN</td>\n",
       "      <td>NaN</td>\n",
       "      <td>NaN</td>\n",
       "      <td>NaN</td>\n",
       "      <td>NaN</td>\n",
       "      <td>1.000000</td>\n",
       "      <td>NaN</td>\n",
       "      <td>NaN</td>\n",
       "    </tr>\n",
       "    <tr>\n",
       "      <th>25%</th>\n",
       "      <td>NaN</td>\n",
       "      <td>NaN</td>\n",
       "      <td>0.700944</td>\n",
       "      <td>NaN</td>\n",
       "      <td>NaN</td>\n",
       "      <td>NaN</td>\n",
       "      <td>1.000000</td>\n",
       "      <td>15.000000</td>\n",
       "      <td>NaN</td>\n",
       "      <td>NaN</td>\n",
       "      <td>NaN</td>\n",
       "      <td>NaN</td>\n",
       "      <td>NaN</td>\n",
       "      <td>NaN</td>\n",
       "      <td>NaN</td>\n",
       "      <td>NaN</td>\n",
       "      <td>5.000000</td>\n",
       "      <td>NaN</td>\n",
       "      <td>NaN</td>\n",
       "    </tr>\n",
       "    <tr>\n",
       "      <th>50%</th>\n",
       "      <td>NaN</td>\n",
       "      <td>NaN</td>\n",
       "      <td>0.991551</td>\n",
       "      <td>NaN</td>\n",
       "      <td>NaN</td>\n",
       "      <td>NaN</td>\n",
       "      <td>2.000000</td>\n",
       "      <td>19.000000</td>\n",
       "      <td>NaN</td>\n",
       "      <td>NaN</td>\n",
       "      <td>NaN</td>\n",
       "      <td>NaN</td>\n",
       "      <td>NaN</td>\n",
       "      <td>NaN</td>\n",
       "      <td>NaN</td>\n",
       "      <td>NaN</td>\n",
       "      <td>7.000000</td>\n",
       "      <td>NaN</td>\n",
       "      <td>NaN</td>\n",
       "    </tr>\n",
       "    <tr>\n",
       "      <th>75%</th>\n",
       "      <td>NaN</td>\n",
       "      <td>NaN</td>\n",
       "      <td>1.313719</td>\n",
       "      <td>NaN</td>\n",
       "      <td>NaN</td>\n",
       "      <td>NaN</td>\n",
       "      <td>3.000000</td>\n",
       "      <td>25.000000</td>\n",
       "      <td>NaN</td>\n",
       "      <td>NaN</td>\n",
       "      <td>NaN</td>\n",
       "      <td>NaN</td>\n",
       "      <td>NaN</td>\n",
       "      <td>NaN</td>\n",
       "      <td>NaN</td>\n",
       "      <td>NaN</td>\n",
       "      <td>10.000000</td>\n",
       "      <td>NaN</td>\n",
       "      <td>NaN</td>\n",
       "    </tr>\n",
       "    <tr>\n",
       "      <th>max</th>\n",
       "      <td>NaN</td>\n",
       "      <td>NaN</td>\n",
       "      <td>2.959189</td>\n",
       "      <td>NaN</td>\n",
       "      <td>NaN</td>\n",
       "      <td>NaN</td>\n",
       "      <td>4.000000</td>\n",
       "      <td>40.000000</td>\n",
       "      <td>NaN</td>\n",
       "      <td>NaN</td>\n",
       "      <td>NaN</td>\n",
       "      <td>NaN</td>\n",
       "      <td>NaN</td>\n",
       "      <td>NaN</td>\n",
       "      <td>NaN</td>\n",
       "      <td>NaN</td>\n",
       "      <td>20.000000</td>\n",
       "      <td>NaN</td>\n",
       "      <td>NaN</td>\n",
       "    </tr>\n",
       "  </tbody>\n",
       "</table>\n",
       "</div>"
      ],
      "text/plain": [
       "                    Country Household id  Survey weights Residency  \\\n",
       "count                 13570        13570    13570.000000     13570   \n",
       "unique                    1         8345             NaN         2   \n",
       "top     Burkina Faso (2010)        522 7             NaN     Rural   \n",
       "freq                  13570            8             NaN     10554   \n",
       "mean                    NaN          NaN        1.021920       NaN   \n",
       "std                     NaN          NaN        0.436616       NaN   \n",
       "min                     NaN          NaN        0.203181       NaN   \n",
       "25%                     NaN          NaN        0.700944       NaN   \n",
       "50%                     NaN          NaN        0.991551       NaN   \n",
       "75%                     NaN          NaN        1.313719       NaN   \n",
       "max                     NaN          NaN        2.959189       NaN   \n",
       "\n",
       "       Child breastfeeding status Child gender     Child age  Mother's age  \\\n",
       "count                       13508        13570  13570.000000  13570.000000   \n",
       "unique                          3            2           NaN           NaN   \n",
       "top                ever breastfed         male           NaN           NaN   \n",
       "freq                         7419         6859           NaN           NaN   \n",
       "mean                          NaN          NaN      1.945099     20.217907   \n",
       "std                           NaN          NaN      1.414060      6.844345   \n",
       "min                           NaN          NaN      0.000000      6.000000   \n",
       "25%                           NaN          NaN      1.000000     15.000000   \n",
       "50%                           NaN          NaN      2.000000     19.000000   \n",
       "75%                           NaN          NaN      3.000000     25.000000   \n",
       "max                           NaN          NaN      4.000000     40.000000   \n",
       "\n",
       "       Age of head of household Multiple births Mother's education  \\\n",
       "count                     13569           13570              13565   \n",
       "unique                        4               2                  4   \n",
       "top                 35-49 years    single birth       no education   \n",
       "freq                       6013           13159              11237   \n",
       "mean                        NaN             NaN                NaN   \n",
       "std                         NaN             NaN                NaN   \n",
       "min                         NaN             NaN                NaN   \n",
       "25%                         NaN             NaN                NaN   \n",
       "50%                         NaN             NaN                NaN   \n",
       "75%                         NaN             NaN                NaN   \n",
       "max                         NaN             NaN                NaN   \n",
       "\n",
       "       Mother's age group Mother's marital status Religion  \\\n",
       "count               13570                   13568    13531   \n",
       "unique                  3                       3        4   \n",
       "top           10-24 years                 married   muslim   \n",
       "freq                 9963                   12669     8439   \n",
       "mean                  NaN                     NaN      NaN   \n",
       "std                   NaN                     NaN      NaN   \n",
       "min                   NaN                     NaN      NaN   \n",
       "25%                   NaN                     NaN      NaN   \n",
       "50%                   NaN                     NaN      NaN   \n",
       "75%                   NaN                     NaN      NaN   \n",
       "max                   NaN                     NaN      NaN   \n",
       "\n",
       "       Mother's BMI status Household wealth status  Household size continuous  \\\n",
       "count                 6493                   13570               13570.000000   \n",
       "unique                   4                       3                        NaN   \n",
       "top                 normal                    Poor                        NaN   \n",
       "freq                  5361                    5432                        NaN   \n",
       "mean                   NaN                     NaN                   7.603832   \n",
       "std                    NaN                     NaN                   3.682956   \n",
       "min                    NaN                     NaN                   1.000000   \n",
       "25%                    NaN                     NaN                   5.000000   \n",
       "50%                    NaN                     NaN                   7.000000   \n",
       "75%                    NaN                     NaN                  10.000000   \n",
       "max                    NaN                     NaN                  20.000000   \n",
       "\n",
       "       Household size categorized Diarrhea  \n",
       "count                       13570    13475  \n",
       "unique                          5        2  \n",
       "top                            8+       No  \n",
       "freq                         5689    11473  \n",
       "mean                          NaN      NaN  \n",
       "std                           NaN      NaN  \n",
       "min                           NaN      NaN  \n",
       "25%                           NaN      NaN  \n",
       "50%                           NaN      NaN  \n",
       "75%                           NaN      NaN  \n",
       "max                           NaN      NaN  "
      ]
     },
     "execution_count": 14,
     "metadata": {},
     "output_type": "execute_result"
    }
   ],
   "source": [
    "q=sub_Faso['Household size continuous'].quantile(0.99)\n",
    "new_data=sub_Faso[sub_Faso['Household size continuous'] < q]\n",
    "new_data.describe(include='all')"
   ]
  },
  {
   "cell_type": "code",
   "execution_count": 15,
   "id": "233e0fbc",
   "metadata": {},
   "outputs": [
    {
     "data": {
      "text/plain": [
       "<AxesSubplot:xlabel='Household size continuous', ylabel='count'>"
      ]
     },
     "execution_count": 15,
     "metadata": {},
     "output_type": "execute_result"
    },
    {
     "data": {
      "image/png": "[encoded data removed]",
      "text/plain": [
       "<Figure size 432x288 with 1 Axes>"
      ]
     },
     "metadata": {
      "needs_background": "light"
     },
     "output_type": "display_data"
    }
   ],
   "source": [
    "sns.countplot(new_data['Household size continuous'])"
   ]
  },
  {
   "cell_type": "code",
   "execution_count": 16,
   "id": "9acc5fa7",
   "metadata": {},
   "outputs": [
    {
     "data": {
      "text/plain": [
       "<AxesSubplot:xlabel='Survey weights', ylabel='Density'>"
      ]
     },
     "execution_count": 16,
     "metadata": {},
     "output_type": "execute_result"
    },
    {
     "data": {
      "image/png": "[encoded data removed]",
      "text/plain": [
       "<Figure size 432x288 with 1 Axes>"
      ]
     },
     "metadata": {
      "needs_background": "light"
     },
     "output_type": "display_data"
    }
   ],
   "source": [
    "sns.distplot(new_data['Survey weights'])"
   ]
  },
  {
   "cell_type": "code",
   "execution_count": 17,
   "id": "13298f47",
   "metadata": {},
   "outputs": [
    {
     "data": {
      "text/plain": [
       "<AxesSubplot:xlabel='Child age', ylabel='Density'>"
      ]
     },
     "execution_count": 17,
     "metadata": {},
     "output_type": "execute_result"
    },
    {
     "data": {
      "image/png": "[encoded data removed]",
      "text/plain": [
       "<Figure size 432x288 with 1 Axes>"
      ]
     },
     "metadata": {
      "needs_background": "light"
     },
     "output_type": "display_data"
    }
   ],
   "source": [
    "sns.distplot(new_data['Child age'])"
   ]
  },
  {
   "cell_type": "code",
   "execution_count": 18,
   "id": "84cbaf58",
   "metadata": {},
   "outputs": [],
   "source": [
    "data_cleaned=new_data.reset_index(drop=True)\n",
    "data_cleaned=data_cleaned.drop(['Household id','Age of head of household','Mother\\'s age group','Religion','Household size categorized'],axis=1)"
   ]
  },
  {
   "cell_type": "code",
   "execution_count": 19,
   "id": "38736c9f",
   "metadata": {},
   "outputs": [
    {
     "data": {
      "text/html": [
       "<div>\n",
       "<style scoped>\n",
       "    .dataframe tbody tr th:only-of-type {\n",
       "        vertical-align: middle;\n",
       "    }\n",
       "\n",
       "    .dataframe tbody tr th {\n",
       "        vertical-align: top;\n",
       "    }\n",
       "\n",
       "    .dataframe thead th {\n",
       "        text-align: right;\n",
       "    }\n",
       "</style>\n",
       "<table border=\"1\" class=\"dataframe\">\n",
       "  <thead>\n",
       "    <tr style=\"text-align: right;\">\n",
       "      <th></th>\n",
       "      <th>Country</th>\n",
       "      <th>Survey weights</th>\n",
       "      <th>Residency</th>\n",
       "      <th>Child breastfeeding status</th>\n",
       "      <th>Child gender</th>\n",
       "      <th>Child age</th>\n",
       "      <th>Mother's age</th>\n",
       "      <th>Multiple births</th>\n",
       "      <th>Mother's education</th>\n",
       "      <th>Mother's marital status</th>\n",
       "      <th>Mother's BMI status</th>\n",
       "      <th>Household wealth status</th>\n",
       "      <th>Household size continuous</th>\n",
       "      <th>Diarrhea</th>\n",
       "    </tr>\n",
       "  </thead>\n",
       "  <tbody>\n",
       "    <tr>\n",
       "      <th>0</th>\n",
       "      <td>Burkina Faso (2010)</td>\n",
       "      <td>0.730967</td>\n",
       "      <td>Rural</td>\n",
       "      <td>still breastfeeding</td>\n",
       "      <td>female</td>\n",
       "      <td>0</td>\n",
       "      <td>26</td>\n",
       "      <td>single birth</td>\n",
       "      <td>no education</td>\n",
       "      <td>married</td>\n",
       "      <td>NaN</td>\n",
       "      <td>Poor</td>\n",
       "      <td>7</td>\n",
       "      <td>No</td>\n",
       "    </tr>\n",
       "    <tr>\n",
       "      <th>1</th>\n",
       "      <td>Burkina Faso (2010)</td>\n",
       "      <td>0.730967</td>\n",
       "      <td>Rural</td>\n",
       "      <td>ever breastfed</td>\n",
       "      <td>female</td>\n",
       "      <td>4</td>\n",
       "      <td>26</td>\n",
       "      <td>single birth</td>\n",
       "      <td>no education</td>\n",
       "      <td>married</td>\n",
       "      <td>NaN</td>\n",
       "      <td>Poor</td>\n",
       "      <td>7</td>\n",
       "      <td>No</td>\n",
       "    </tr>\n",
       "    <tr>\n",
       "      <th>2</th>\n",
       "      <td>Burkina Faso (2010)</td>\n",
       "      <td>1.078176</td>\n",
       "      <td>Rural</td>\n",
       "      <td>still breastfeeding</td>\n",
       "      <td>female</td>\n",
       "      <td>1</td>\n",
       "      <td>15</td>\n",
       "      <td>single birth</td>\n",
       "      <td>no education</td>\n",
       "      <td>married</td>\n",
       "      <td>NaN</td>\n",
       "      <td>Poor</td>\n",
       "      <td>4</td>\n",
       "      <td>No</td>\n",
       "    </tr>\n",
       "    <tr>\n",
       "      <th>3</th>\n",
       "      <td>Burkina Faso (2010)</td>\n",
       "      <td>1.078176</td>\n",
       "      <td>Rural</td>\n",
       "      <td>ever breastfed</td>\n",
       "      <td>female</td>\n",
       "      <td>4</td>\n",
       "      <td>15</td>\n",
       "      <td>single birth</td>\n",
       "      <td>no education</td>\n",
       "      <td>married</td>\n",
       "      <td>NaN</td>\n",
       "      <td>Poor</td>\n",
       "      <td>4</td>\n",
       "      <td>No</td>\n",
       "    </tr>\n",
       "    <tr>\n",
       "      <th>4</th>\n",
       "      <td>Burkina Faso (2010)</td>\n",
       "      <td>1.078176</td>\n",
       "      <td>Rural</td>\n",
       "      <td>ever breastfed</td>\n",
       "      <td>female</td>\n",
       "      <td>2</td>\n",
       "      <td>11</td>\n",
       "      <td>single birth</td>\n",
       "      <td>no education</td>\n",
       "      <td>married</td>\n",
       "      <td>NaN</td>\n",
       "      <td>Poor</td>\n",
       "      <td>4</td>\n",
       "      <td>No</td>\n",
       "    </tr>\n",
       "  </tbody>\n",
       "</table>\n",
       "</div>"
      ],
      "text/plain": [
       "               Country  Survey weights Residency Child breastfeeding status  \\\n",
       "0  Burkina Faso (2010)        0.730967     Rural        still breastfeeding   \n",
       "1  Burkina Faso (2010)        0.730967     Rural             ever breastfed   \n",
       "2  Burkina Faso (2010)        1.078176     Rural        still breastfeeding   \n",
       "3  Burkina Faso (2010)        1.078176     Rural             ever breastfed   \n",
       "4  Burkina Faso (2010)        1.078176     Rural             ever breastfed   \n",
       "\n",
       "  Child gender  Child age  Mother's age Multiple births Mother's education  \\\n",
       "0       female          0            26    single birth       no education   \n",
       "1       female          4            26    single birth       no education   \n",
       "2       female          1            15    single birth       no education   \n",
       "3       female          4            15    single birth       no education   \n",
       "4       female          2            11    single birth       no education   \n",
       "\n",
       "  Mother's marital status Mother's BMI status Household wealth status  \\\n",
       "0                 married                 NaN                    Poor   \n",
       "1                 married                 NaN                    Poor   \n",
       "2                 married                 NaN                    Poor   \n",
       "3                 married                 NaN                    Poor   \n",
       "4                 married                 NaN                    Poor   \n",
       "\n",
       "   Household size continuous Diarrhea  \n",
       "0                          7       No  \n",
       "1                          7       No  \n",
       "2                          4       No  \n",
       "3                          4       No  \n",
       "4                          4       No  "
      ]
     },
     "execution_count": 19,
     "metadata": {},
     "output_type": "execute_result"
    }
   ],
   "source": [
    "data_cleaned.head()"
   ]
  },
  {
   "cell_type": "markdown",
   "id": "5f6ecdc3",
   "metadata": {},
   "source": [
    "# Mapping"
   ]
  },
  {
   "cell_type": "code",
   "execution_count": 20,
   "id": "9609546a",
   "metadata": {},
   "outputs": [
    {
     "data": {
      "text/html": [
       "<div>\n",
       "<style scoped>\n",
       "    .dataframe tbody tr th:only-of-type {\n",
       "        vertical-align: middle;\n",
       "    }\n",
       "\n",
       "    .dataframe tbody tr th {\n",
       "        vertical-align: top;\n",
       "    }\n",
       "\n",
       "    .dataframe thead th {\n",
       "        text-align: right;\n",
       "    }\n",
       "</style>\n",
       "<table border=\"1\" class=\"dataframe\">\n",
       "  <thead>\n",
       "    <tr style=\"text-align: right;\">\n",
       "      <th></th>\n",
       "      <th>Country</th>\n",
       "      <th>Survey weights</th>\n",
       "      <th>Child age</th>\n",
       "      <th>Mother's age</th>\n",
       "      <th>Multiple births</th>\n",
       "      <th>Household size continuous</th>\n",
       "      <th>Wealth</th>\n",
       "      <th>Mother education</th>\n",
       "      <th>Child's gender</th>\n",
       "      <th>Mother BMI status</th>\n",
       "      <th>breastfeeding</th>\n",
       "      <th>Married</th>\n",
       "      <th>Rural</th>\n",
       "      <th>diarrhea</th>\n",
       "    </tr>\n",
       "  </thead>\n",
       "  <tbody>\n",
       "    <tr>\n",
       "      <th>0</th>\n",
       "      <td>Burkina Faso (2010)</td>\n",
       "      <td>0.730967</td>\n",
       "      <td>0</td>\n",
       "      <td>26</td>\n",
       "      <td>single birth</td>\n",
       "      <td>7</td>\n",
       "      <td>0</td>\n",
       "      <td>0.0</td>\n",
       "      <td>0</td>\n",
       "      <td>NaN</td>\n",
       "      <td>1.0</td>\n",
       "      <td>1.0</td>\n",
       "      <td>1</td>\n",
       "      <td>0.0</td>\n",
       "    </tr>\n",
       "    <tr>\n",
       "      <th>1</th>\n",
       "      <td>Burkina Faso (2010)</td>\n",
       "      <td>0.730967</td>\n",
       "      <td>4</td>\n",
       "      <td>26</td>\n",
       "      <td>single birth</td>\n",
       "      <td>7</td>\n",
       "      <td>0</td>\n",
       "      <td>0.0</td>\n",
       "      <td>0</td>\n",
       "      <td>NaN</td>\n",
       "      <td>1.0</td>\n",
       "      <td>1.0</td>\n",
       "      <td>1</td>\n",
       "      <td>0.0</td>\n",
       "    </tr>\n",
       "    <tr>\n",
       "      <th>2</th>\n",
       "      <td>Burkina Faso (2010)</td>\n",
       "      <td>1.078176</td>\n",
       "      <td>1</td>\n",
       "      <td>15</td>\n",
       "      <td>single birth</td>\n",
       "      <td>4</td>\n",
       "      <td>0</td>\n",
       "      <td>0.0</td>\n",
       "      <td>0</td>\n",
       "      <td>NaN</td>\n",
       "      <td>1.0</td>\n",
       "      <td>1.0</td>\n",
       "      <td>1</td>\n",
       "      <td>0.0</td>\n",
       "    </tr>\n",
       "    <tr>\n",
       "      <th>3</th>\n",
       "      <td>Burkina Faso (2010)</td>\n",
       "      <td>1.078176</td>\n",
       "      <td>4</td>\n",
       "      <td>15</td>\n",
       "      <td>single birth</td>\n",
       "      <td>4</td>\n",
       "      <td>0</td>\n",
       "      <td>0.0</td>\n",
       "      <td>0</td>\n",
       "      <td>NaN</td>\n",
       "      <td>1.0</td>\n",
       "      <td>1.0</td>\n",
       "      <td>1</td>\n",
       "      <td>0.0</td>\n",
       "    </tr>\n",
       "    <tr>\n",
       "      <th>4</th>\n",
       "      <td>Burkina Faso (2010)</td>\n",
       "      <td>1.078176</td>\n",
       "      <td>2</td>\n",
       "      <td>11</td>\n",
       "      <td>single birth</td>\n",
       "      <td>4</td>\n",
       "      <td>0</td>\n",
       "      <td>0.0</td>\n",
       "      <td>0</td>\n",
       "      <td>NaN</td>\n",
       "      <td>1.0</td>\n",
       "      <td>1.0</td>\n",
       "      <td>1</td>\n",
       "      <td>0.0</td>\n",
       "    </tr>\n",
       "    <tr>\n",
       "      <th>...</th>\n",
       "      <td>...</td>\n",
       "      <td>...</td>\n",
       "      <td>...</td>\n",
       "      <td>...</td>\n",
       "      <td>...</td>\n",
       "      <td>...</td>\n",
       "      <td>...</td>\n",
       "      <td>...</td>\n",
       "      <td>...</td>\n",
       "      <td>...</td>\n",
       "      <td>...</td>\n",
       "      <td>...</td>\n",
       "      <td>...</td>\n",
       "      <td>...</td>\n",
       "    </tr>\n",
       "    <tr>\n",
       "      <th>13565</th>\n",
       "      <td>Burkina Faso (2010)</td>\n",
       "      <td>0.578507</td>\n",
       "      <td>1</td>\n",
       "      <td>25</td>\n",
       "      <td>single birth</td>\n",
       "      <td>7</td>\n",
       "      <td>1</td>\n",
       "      <td>0.0</td>\n",
       "      <td>0</td>\n",
       "      <td>0.0</td>\n",
       "      <td>1.0</td>\n",
       "      <td>1.0</td>\n",
       "      <td>0</td>\n",
       "      <td>0.0</td>\n",
       "    </tr>\n",
       "    <tr>\n",
       "      <th>13566</th>\n",
       "      <td>Burkina Faso (2010)</td>\n",
       "      <td>0.578507</td>\n",
       "      <td>4</td>\n",
       "      <td>25</td>\n",
       "      <td>single birth</td>\n",
       "      <td>7</td>\n",
       "      <td>1</td>\n",
       "      <td>0.0</td>\n",
       "      <td>1</td>\n",
       "      <td>1.0</td>\n",
       "      <td>1.0</td>\n",
       "      <td>1.0</td>\n",
       "      <td>0</td>\n",
       "      <td>0.0</td>\n",
       "    </tr>\n",
       "    <tr>\n",
       "      <th>13567</th>\n",
       "      <td>Burkina Faso (2010)</td>\n",
       "      <td>0.578507</td>\n",
       "      <td>4</td>\n",
       "      <td>22</td>\n",
       "      <td>single birth</td>\n",
       "      <td>4</td>\n",
       "      <td>0</td>\n",
       "      <td>0.0</td>\n",
       "      <td>0</td>\n",
       "      <td>NaN</td>\n",
       "      <td>1.0</td>\n",
       "      <td>1.0</td>\n",
       "      <td>0</td>\n",
       "      <td>0.0</td>\n",
       "    </tr>\n",
       "    <tr>\n",
       "      <th>13568</th>\n",
       "      <td>Burkina Faso (2010)</td>\n",
       "      <td>0.578507</td>\n",
       "      <td>2</td>\n",
       "      <td>18</td>\n",
       "      <td>single birth</td>\n",
       "      <td>4</td>\n",
       "      <td>1</td>\n",
       "      <td>0.0</td>\n",
       "      <td>1</td>\n",
       "      <td>1.0</td>\n",
       "      <td>1.0</td>\n",
       "      <td>1.0</td>\n",
       "      <td>0</td>\n",
       "      <td>0.0</td>\n",
       "    </tr>\n",
       "    <tr>\n",
       "      <th>13569</th>\n",
       "      <td>Burkina Faso (2010)</td>\n",
       "      <td>0.578507</td>\n",
       "      <td>3</td>\n",
       "      <td>18</td>\n",
       "      <td>single birth</td>\n",
       "      <td>6</td>\n",
       "      <td>1</td>\n",
       "      <td>0.0</td>\n",
       "      <td>1</td>\n",
       "      <td>1.0</td>\n",
       "      <td>1.0</td>\n",
       "      <td>1.0</td>\n",
       "      <td>0</td>\n",
       "      <td>0.0</td>\n",
       "    </tr>\n",
       "  </tbody>\n",
       "</table>\n",
       "<p>13570 rows × 14 columns</p>\n",
       "</div>"
      ],
      "text/plain": [
       "                   Country  Survey weights  Child age  Mother's age  \\\n",
       "0      Burkina Faso (2010)        0.730967          0            26   \n",
       "1      Burkina Faso (2010)        0.730967          4            26   \n",
       "2      Burkina Faso (2010)        1.078176          1            15   \n",
       "3      Burkina Faso (2010)        1.078176          4            15   \n",
       "4      Burkina Faso (2010)        1.078176          2            11   \n",
       "...                    ...             ...        ...           ...   \n",
       "13565  Burkina Faso (2010)        0.578507          1            25   \n",
       "13566  Burkina Faso (2010)        0.578507          4            25   \n",
       "13567  Burkina Faso (2010)        0.578507          4            22   \n",
       "13568  Burkina Faso (2010)        0.578507          2            18   \n",
       "13569  Burkina Faso (2010)        0.578507          3            18   \n",
       "\n",
       "      Multiple births  Household size continuous  Wealth  Mother education  \\\n",
       "0        single birth                          7       0               0.0   \n",
       "1        single birth                          7       0               0.0   \n",
       "2        single birth                          4       0               0.0   \n",
       "3        single birth                          4       0               0.0   \n",
       "4        single birth                          4       0               0.0   \n",
       "...               ...                        ...     ...               ...   \n",
       "13565    single birth                          7       1               0.0   \n",
       "13566    single birth                          7       1               0.0   \n",
       "13567    single birth                          4       0               0.0   \n",
       "13568    single birth                          4       1               0.0   \n",
       "13569    single birth                          6       1               0.0   \n",
       "\n",
       "       Child's gender  Mother BMI status  breastfeeding  Married  Rural  \\\n",
       "0                   0                NaN            1.0      1.0      1   \n",
       "1                   0                NaN            1.0      1.0      1   \n",
       "2                   0                NaN            1.0      1.0      1   \n",
       "3                   0                NaN            1.0      1.0      1   \n",
       "4                   0                NaN            1.0      1.0      1   \n",
       "...               ...                ...            ...      ...    ...   \n",
       "13565               0                0.0            1.0      1.0      0   \n",
       "13566               1                1.0            1.0      1.0      0   \n",
       "13567               0                NaN            1.0      1.0      0   \n",
       "13568               1                1.0            1.0      1.0      0   \n",
       "13569               1                1.0            1.0      1.0      0   \n",
       "\n",
       "       diarrhea  \n",
       "0           0.0  \n",
       "1           0.0  \n",
       "2           0.0  \n",
       "3           0.0  \n",
       "4           0.0  \n",
       "...         ...  \n",
       "13565       0.0  \n",
       "13566       0.0  \n",
       "13567       0.0  \n",
       "13568       0.0  \n",
       "13569       0.0  \n",
       "\n",
       "[13570 rows x 14 columns]"
      ]
     },
     "execution_count": 20,
     "metadata": {},
     "output_type": "execute_result"
    }
   ],
   "source": [
    "data_cleaned['Wealth']=data_cleaned['Household wealth status'].map({'Poor':0,'Middle':1,'Rich':2})\n",
    "data_cleaned=data_cleaned.drop('Household wealth status',axis=1)\n",
    "\n",
    "data_cleaned['Mother education']=data_cleaned['Mother\\'s education'].map({'higher':3, 'no education':0, 'primary':1, 'secondary':2})\n",
    "data_cleaned=data_cleaned.drop('Mother\\'s education',axis=1)\n",
    "\n",
    "data_cleaned['Child\\'s gender']=data_cleaned['Child gender'].map({'female':0,'male':1})\n",
    "data_cleaned=data_cleaned.drop('Child gender',axis=1)\n",
    "\n",
    "data_cleaned['Mother BMI status']=data_cleaned['Mother\\'s BMI status'].map({'normal':1, 'obese':0, 'overweight':0, 'thin':0})\n",
    "data_cleaned=data_cleaned.drop('Mother\\'s BMI status',axis=1)\n",
    "\n",
    "data_cleaned['breastfeeding']=data_cleaned['Child breastfeeding status'].map({'still breastfeeding':1,'ever breastfed':1,'never breastfed':0})\n",
    "data_cleaned=data_cleaned.drop('Child breastfeeding status',axis=1)\n",
    "\n",
    "data_cleaned['Married']=data_cleaned['Mother\\'s marital status'].map({'married':1,'never married':0, 'others':0})\n",
    "data_cleaned=data_cleaned.drop('Mother\\'s marital status',axis=1)\n",
    "\n",
    "data_cleaned['Rural']=data_cleaned['Residency'].map({'Rural':1,'Urban':0})\n",
    "data_cleaned=data_cleaned.drop('Residency',axis=1)\n",
    "\n",
    "data_cleaned['diarrhea']=data_cleaned['Diarrhea'].map({'Yes':1,'No':0})\n",
    "data_cleaned=data_cleaned.drop('Diarrhea',axis=1)\n",
    "\n",
    "\n",
    "\n",
    "data_cleaned"
   ]
  },
  {
   "cell_type": "markdown",
   "id": "3490a800",
   "metadata": {},
   "source": [
    "# Explore some more"
   ]
  },
  {
   "cell_type": "code",
   "execution_count": 21,
   "id": "b08b0974",
   "metadata": {},
   "outputs": [
    {
     "data": {
      "text/plain": [
       "<AxesSubplot:xlabel='Mother BMI status', ylabel='count'>"
      ]
     },
     "execution_count": 21,
     "metadata": {},
     "output_type": "execute_result"
    },
    {
     "data": {
      "image/png": "[encoded data removed]",
      "text/plain": [
       "<Figure size 432x288 with 1 Axes>"
      ]
     },
     "metadata": {
      "needs_background": "light"
     },
     "output_type": "display_data"
    }
   ],
   "source": [
    "sns.countplot(data_cleaned['Mother BMI status'])"
   ]
  },
  {
   "cell_type": "code",
   "execution_count": 22,
   "id": "05546510",
   "metadata": {},
   "outputs": [
    {
     "data": {
      "text/plain": [
       "<AxesSubplot:xlabel=\"Child's gender\", ylabel='count'>"
      ]
     },
     "execution_count": 22,
     "metadata": {},
     "output_type": "execute_result"
    },
    {
     "data": {
      "image/png": "[encoded data removed]",
      "text/plain": [
       "<Figure size 432x288 with 1 Axes>"
      ]
     },
     "metadata": {
      "needs_background": "light"
     },
     "output_type": "display_data"
    }
   ],
   "source": [
    "sns.countplot(data_cleaned['Child\\'s gender'])"
   ]
  },
  {
   "cell_type": "code",
   "execution_count": 23,
   "id": "fd4671bb",
   "metadata": {},
   "outputs": [
    {
     "data": {
      "text/plain": [
       "<AxesSubplot:xlabel=\"Mother's age\", ylabel='count'>"
      ]
     },
     "execution_count": 23,
     "metadata": {},
     "output_type": "execute_result"
    },
    {
     "data": {
      "image/png": "[encoded data removed]",
      "text/plain": [
       "<Figure size 432x288 with 1 Axes>"
      ]
     },
     "metadata": {
      "needs_background": "light"
     },
     "output_type": "display_data"
    }
   ],
   "source": [
    "sns.countplot(data_cleaned['Mother\\'s age'])"
   ]
  },
  {
   "cell_type": "code",
   "execution_count": 24,
   "id": "fcee9509",
   "metadata": {},
   "outputs": [
    {
     "data": {
      "text/plain": [
       "Country                         0\n",
       "Survey weights                  0\n",
       "Child age                       0\n",
       "Mother's age                    0\n",
       "Multiple births                 0\n",
       "Household size continuous       0\n",
       "Wealth                          0\n",
       "Mother education                5\n",
       "Child's gender                  0\n",
       "Mother BMI status            7077\n",
       "breastfeeding                  62\n",
       "Married                         2\n",
       "Rural                           0\n",
       "diarrhea                       95\n",
       "dtype: int64"
      ]
     },
     "execution_count": 24,
     "metadata": {},
     "output_type": "execute_result"
    }
   ],
   "source": [
    "data_cleaned.isnull().sum()"
   ]
  },
  {
   "cell_type": "code",
   "execution_count": 25,
   "id": "719f4046",
   "metadata": {},
   "outputs": [
    {
     "data": {
      "text/plain": [
       "<AxesSubplot:xlabel='diarrhea', ylabel='count'>"
      ]
     },
     "execution_count": 25,
     "metadata": {},
     "output_type": "execute_result"
    },
    {
     "data": {
      "image/png": "[encoded data removed]",
      "text/plain": [
       "<Figure size 432x288 with 1 Axes>"
      ]
     },
     "metadata": {
      "needs_background": "light"
     },
     "output_type": "display_data"
    }
   ],
   "source": [
    "sns.countplot(data_cleaned['diarrhea'])"
   ]
  },
  {
   "cell_type": "markdown",
   "id": "0d74c44c",
   "metadata": {},
   "source": [
    "# Dummy encoding"
   ]
  },
  {
   "cell_type": "code",
   "execution_count": 26,
   "id": "bf7a4d98",
   "metadata": {},
   "outputs": [
    {
     "data": {
      "text/html": [
       "<div>\n",
       "<style scoped>\n",
       "    .dataframe tbody tr th:only-of-type {\n",
       "        vertical-align: middle;\n",
       "    }\n",
       "\n",
       "    .dataframe tbody tr th {\n",
       "        vertical-align: top;\n",
       "    }\n",
       "\n",
       "    .dataframe thead th {\n",
       "        text-align: right;\n",
       "    }\n",
       "</style>\n",
       "<table border=\"1\" class=\"dataframe\">\n",
       "  <thead>\n",
       "    <tr style=\"text-align: right;\">\n",
       "      <th></th>\n",
       "      <th>Country</th>\n",
       "      <th>Survey weights</th>\n",
       "      <th>Child age</th>\n",
       "      <th>Mother's age</th>\n",
       "      <th>Household size continuous</th>\n",
       "      <th>Wealth</th>\n",
       "      <th>Mother education</th>\n",
       "      <th>Child's gender</th>\n",
       "      <th>Mother BMI status</th>\n",
       "      <th>breastfeeding</th>\n",
       "      <th>Married</th>\n",
       "      <th>Rural</th>\n",
       "      <th>diarrhea</th>\n",
       "      <th>multiple birth</th>\n",
       "    </tr>\n",
       "  </thead>\n",
       "  <tbody>\n",
       "    <tr>\n",
       "      <th>0</th>\n",
       "      <td>Burkina Faso (2010)</td>\n",
       "      <td>0.730967</td>\n",
       "      <td>0</td>\n",
       "      <td>26</td>\n",
       "      <td>7</td>\n",
       "      <td>0</td>\n",
       "      <td>0.0</td>\n",
       "      <td>0</td>\n",
       "      <td>NaN</td>\n",
       "      <td>1.0</td>\n",
       "      <td>1.0</td>\n",
       "      <td>1</td>\n",
       "      <td>0.0</td>\n",
       "      <td>0</td>\n",
       "    </tr>\n",
       "    <tr>\n",
       "      <th>1</th>\n",
       "      <td>Burkina Faso (2010)</td>\n",
       "      <td>0.730967</td>\n",
       "      <td>4</td>\n",
       "      <td>26</td>\n",
       "      <td>7</td>\n",
       "      <td>0</td>\n",
       "      <td>0.0</td>\n",
       "      <td>0</td>\n",
       "      <td>NaN</td>\n",
       "      <td>1.0</td>\n",
       "      <td>1.0</td>\n",
       "      <td>1</td>\n",
       "      <td>0.0</td>\n",
       "      <td>0</td>\n",
       "    </tr>\n",
       "    <tr>\n",
       "      <th>2</th>\n",
       "      <td>Burkina Faso (2010)</td>\n",
       "      <td>1.078176</td>\n",
       "      <td>1</td>\n",
       "      <td>15</td>\n",
       "      <td>4</td>\n",
       "      <td>0</td>\n",
       "      <td>0.0</td>\n",
       "      <td>0</td>\n",
       "      <td>NaN</td>\n",
       "      <td>1.0</td>\n",
       "      <td>1.0</td>\n",
       "      <td>1</td>\n",
       "      <td>0.0</td>\n",
       "      <td>0</td>\n",
       "    </tr>\n",
       "    <tr>\n",
       "      <th>3</th>\n",
       "      <td>Burkina Faso (2010)</td>\n",
       "      <td>1.078176</td>\n",
       "      <td>4</td>\n",
       "      <td>15</td>\n",
       "      <td>4</td>\n",
       "      <td>0</td>\n",
       "      <td>0.0</td>\n",
       "      <td>0</td>\n",
       "      <td>NaN</td>\n",
       "      <td>1.0</td>\n",
       "      <td>1.0</td>\n",
       "      <td>1</td>\n",
       "      <td>0.0</td>\n",
       "      <td>0</td>\n",
       "    </tr>\n",
       "    <tr>\n",
       "      <th>4</th>\n",
       "      <td>Burkina Faso (2010)</td>\n",
       "      <td>1.078176</td>\n",
       "      <td>2</td>\n",
       "      <td>11</td>\n",
       "      <td>4</td>\n",
       "      <td>0</td>\n",
       "      <td>0.0</td>\n",
       "      <td>0</td>\n",
       "      <td>NaN</td>\n",
       "      <td>1.0</td>\n",
       "      <td>1.0</td>\n",
       "      <td>1</td>\n",
       "      <td>0.0</td>\n",
       "      <td>0</td>\n",
       "    </tr>\n",
       "    <tr>\n",
       "      <th>5</th>\n",
       "      <td>Burkina Faso (2010)</td>\n",
       "      <td>1.078176</td>\n",
       "      <td>3</td>\n",
       "      <td>19</td>\n",
       "      <td>4</td>\n",
       "      <td>0</td>\n",
       "      <td>0.0</td>\n",
       "      <td>0</td>\n",
       "      <td>1.0</td>\n",
       "      <td>1.0</td>\n",
       "      <td>1.0</td>\n",
       "      <td>1</td>\n",
       "      <td>0.0</td>\n",
       "      <td>0</td>\n",
       "    </tr>\n",
       "    <tr>\n",
       "      <th>6</th>\n",
       "      <td>Burkina Faso (2010)</td>\n",
       "      <td>1.078176</td>\n",
       "      <td>0</td>\n",
       "      <td>27</td>\n",
       "      <td>8</td>\n",
       "      <td>0</td>\n",
       "      <td>0.0</td>\n",
       "      <td>1</td>\n",
       "      <td>NaN</td>\n",
       "      <td>1.0</td>\n",
       "      <td>1.0</td>\n",
       "      <td>1</td>\n",
       "      <td>0.0</td>\n",
       "      <td>0</td>\n",
       "    </tr>\n",
       "    <tr>\n",
       "      <th>7</th>\n",
       "      <td>Burkina Faso (2010)</td>\n",
       "      <td>1.078176</td>\n",
       "      <td>3</td>\n",
       "      <td>27</td>\n",
       "      <td>8</td>\n",
       "      <td>0</td>\n",
       "      <td>0.0</td>\n",
       "      <td>1</td>\n",
       "      <td>NaN</td>\n",
       "      <td>1.0</td>\n",
       "      <td>1.0</td>\n",
       "      <td>1</td>\n",
       "      <td>0.0</td>\n",
       "      <td>0</td>\n",
       "    </tr>\n",
       "    <tr>\n",
       "      <th>8</th>\n",
       "      <td>Burkina Faso (2010)</td>\n",
       "      <td>1.078176</td>\n",
       "      <td>2</td>\n",
       "      <td>13</td>\n",
       "      <td>5</td>\n",
       "      <td>0</td>\n",
       "      <td>1.0</td>\n",
       "      <td>0</td>\n",
       "      <td>1.0</td>\n",
       "      <td>1.0</td>\n",
       "      <td>1.0</td>\n",
       "      <td>1</td>\n",
       "      <td>0.0</td>\n",
       "      <td>0</td>\n",
       "    </tr>\n",
       "    <tr>\n",
       "      <th>9</th>\n",
       "      <td>Burkina Faso (2010)</td>\n",
       "      <td>0.977534</td>\n",
       "      <td>2</td>\n",
       "      <td>13</td>\n",
       "      <td>4</td>\n",
       "      <td>2</td>\n",
       "      <td>1.0</td>\n",
       "      <td>1</td>\n",
       "      <td>NaN</td>\n",
       "      <td>1.0</td>\n",
       "      <td>1.0</td>\n",
       "      <td>0</td>\n",
       "      <td>0.0</td>\n",
       "      <td>0</td>\n",
       "    </tr>\n",
       "  </tbody>\n",
       "</table>\n",
       "</div>"
      ],
      "text/plain": [
       "               Country  Survey weights  Child age  Mother's age  \\\n",
       "0  Burkina Faso (2010)        0.730967          0            26   \n",
       "1  Burkina Faso (2010)        0.730967          4            26   \n",
       "2  Burkina Faso (2010)        1.078176          1            15   \n",
       "3  Burkina Faso (2010)        1.078176          4            15   \n",
       "4  Burkina Faso (2010)        1.078176          2            11   \n",
       "5  Burkina Faso (2010)        1.078176          3            19   \n",
       "6  Burkina Faso (2010)        1.078176          0            27   \n",
       "7  Burkina Faso (2010)        1.078176          3            27   \n",
       "8  Burkina Faso (2010)        1.078176          2            13   \n",
       "9  Burkina Faso (2010)        0.977534          2            13   \n",
       "\n",
       "   Household size continuous  Wealth  Mother education  Child's gender  \\\n",
       "0                          7       0               0.0               0   \n",
       "1                          7       0               0.0               0   \n",
       "2                          4       0               0.0               0   \n",
       "3                          4       0               0.0               0   \n",
       "4                          4       0               0.0               0   \n",
       "5                          4       0               0.0               0   \n",
       "6                          8       0               0.0               1   \n",
       "7                          8       0               0.0               1   \n",
       "8                          5       0               1.0               0   \n",
       "9                          4       2               1.0               1   \n",
       "\n",
       "   Mother BMI status  breastfeeding  Married  Rural  diarrhea  multiple birth  \n",
       "0                NaN            1.0      1.0      1       0.0               0  \n",
       "1                NaN            1.0      1.0      1       0.0               0  \n",
       "2                NaN            1.0      1.0      1       0.0               0  \n",
       "3                NaN            1.0      1.0      1       0.0               0  \n",
       "4                NaN            1.0      1.0      1       0.0               0  \n",
       "5                1.0            1.0      1.0      1       0.0               0  \n",
       "6                NaN            1.0      1.0      1       0.0               0  \n",
       "7                NaN            1.0      1.0      1       0.0               0  \n",
       "8                1.0            1.0      1.0      1       0.0               0  \n",
       "9                NaN            1.0      1.0      0       0.0               0  "
      ]
     },
     "execution_count": 26,
     "metadata": {},
     "output_type": "execute_result"
    }
   ],
   "source": [
    "dummy=pd.get_dummies(data_cleaned['Multiple births'])\n",
    "dummy=pd.concat([data_cleaned, dummy], axis=1)\n",
    "dummy.drop(['Multiple births','single birth'], inplace=True,axis=1)\n",
    "\n",
    "dummy.head(10)"
   ]
  },
  {
   "cell_type": "code",
   "execution_count": 27,
   "id": "3f96ec2a",
   "metadata": {},
   "outputs": [
    {
     "data": {
      "text/plain": [
       "Index(['Country', 'Survey weights', 'Child age', 'Mother's age',\n",
       "       'Household size continuous', 'Wealth', 'Mother education',\n",
       "       'Child's gender', 'Mother BMI status', 'breastfeeding', 'Married',\n",
       "       'Rural', 'diarrhea', 'multiple birth'],\n",
       "      dtype='object')"
      ]
     },
     "execution_count": 27,
     "metadata": {},
     "output_type": "execute_result"
    }
   ],
   "source": [
    "dummy.columns"
   ]
  },
  {
   "cell_type": "code",
   "execution_count": 28,
   "id": "048b03fa",
   "metadata": {},
   "outputs": [
    {
     "data": {
      "text/plain": [
       "Country                         0\n",
       "Survey weights                  0\n",
       "Child age                       0\n",
       "Mother's age                    0\n",
       "Household size continuous       0\n",
       "Wealth                          0\n",
       "Mother education                5\n",
       "Child's gender                  0\n",
       "Mother BMI status            7077\n",
       "breastfeeding                  62\n",
       "Married                         2\n",
       "Rural                           0\n",
       "diarrhea                       95\n",
       "multiple birth                  0\n",
       "dtype: int64"
      ]
     },
     "execution_count": 28,
     "metadata": {},
     "output_type": "execute_result"
    }
   ],
   "source": [
    "dummy.isnull().sum()"
   ]
  },
  {
   "cell_type": "markdown",
   "id": "fa1f9103",
   "metadata": {},
   "source": [
    "# Correcting missing values"
   ]
  },
  {
   "cell_type": "code",
   "execution_count": 29,
   "id": "6cbe32c3",
   "metadata": {},
   "outputs": [],
   "source": [
    "dummy['Mother BMI status']=dummy['Mother BMI status'].fillna(dummy['Mother BMI status'].mode()[0])"
   ]
  },
  {
   "cell_type": "code",
   "execution_count": 30,
   "id": "705b414a",
   "metadata": {},
   "outputs": [],
   "source": [
    "dummy['breastfeeding']=dummy['breastfeeding'].fillna(dummy['breastfeeding'].mode()[0])"
   ]
  },
  {
   "cell_type": "code",
   "execution_count": 31,
   "id": "4b0891a1",
   "metadata": {},
   "outputs": [],
   "source": [
    "dummy['diarrhea']=dummy['diarrhea'].fillna(dummy['diarrhea'].mode()[0])"
   ]
  },
  {
   "cell_type": "code",
   "execution_count": 32,
   "id": "b5be7b1f",
   "metadata": {},
   "outputs": [],
   "source": [
    "dummy['Mother education']=dummy['Mother education'].fillna(dummy['Mother education'].mode()[0])"
   ]
  },
  {
   "cell_type": "code",
   "execution_count": 33,
   "id": "b6205371",
   "metadata": {},
   "outputs": [],
   "source": [
    "dummy['Married']=dummy['Married'].fillna(dummy['Married'].mode()[0])"
   ]
  },
  {
   "cell_type": "code",
   "execution_count": 34,
   "id": "1c9eb226",
   "metadata": {},
   "outputs": [
    {
     "data": {
      "text/html": [
       "<div>\n",
       "<style scoped>\n",
       "    .dataframe tbody tr th:only-of-type {\n",
       "        vertical-align: middle;\n",
       "    }\n",
       "\n",
       "    .dataframe tbody tr th {\n",
       "        vertical-align: top;\n",
       "    }\n",
       "\n",
       "    .dataframe thead th {\n",
       "        text-align: right;\n",
       "    }\n",
       "</style>\n",
       "<table border=\"1\" class=\"dataframe\">\n",
       "  <thead>\n",
       "    <tr style=\"text-align: right;\">\n",
       "      <th></th>\n",
       "      <th>Country</th>\n",
       "      <th>Survey weights</th>\n",
       "      <th>Child age</th>\n",
       "      <th>Mother's age</th>\n",
       "      <th>Household size continuous</th>\n",
       "      <th>Wealth</th>\n",
       "      <th>Mother education</th>\n",
       "      <th>Child's gender</th>\n",
       "      <th>Mother BMI status</th>\n",
       "      <th>breastfeeding</th>\n",
       "      <th>Married</th>\n",
       "      <th>Rural</th>\n",
       "      <th>diarrhea</th>\n",
       "      <th>multiple birth</th>\n",
       "    </tr>\n",
       "  </thead>\n",
       "  <tbody>\n",
       "    <tr>\n",
       "      <th>0</th>\n",
       "      <td>Burkina Faso (2010)</td>\n",
       "      <td>0.730967</td>\n",
       "      <td>0</td>\n",
       "      <td>26</td>\n",
       "      <td>7</td>\n",
       "      <td>0</td>\n",
       "      <td>0.0</td>\n",
       "      <td>0</td>\n",
       "      <td>1.0</td>\n",
       "      <td>1.0</td>\n",
       "      <td>1.0</td>\n",
       "      <td>1</td>\n",
       "      <td>0.0</td>\n",
       "      <td>0</td>\n",
       "    </tr>\n",
       "    <tr>\n",
       "      <th>1</th>\n",
       "      <td>Burkina Faso (2010)</td>\n",
       "      <td>0.730967</td>\n",
       "      <td>4</td>\n",
       "      <td>26</td>\n",
       "      <td>7</td>\n",
       "      <td>0</td>\n",
       "      <td>0.0</td>\n",
       "      <td>0</td>\n",
       "      <td>1.0</td>\n",
       "      <td>1.0</td>\n",
       "      <td>1.0</td>\n",
       "      <td>1</td>\n",
       "      <td>0.0</td>\n",
       "      <td>0</td>\n",
       "    </tr>\n",
       "    <tr>\n",
       "      <th>2</th>\n",
       "      <td>Burkina Faso (2010)</td>\n",
       "      <td>1.078176</td>\n",
       "      <td>1</td>\n",
       "      <td>15</td>\n",
       "      <td>4</td>\n",
       "      <td>0</td>\n",
       "      <td>0.0</td>\n",
       "      <td>0</td>\n",
       "      <td>1.0</td>\n",
       "      <td>1.0</td>\n",
       "      <td>1.0</td>\n",
       "      <td>1</td>\n",
       "      <td>0.0</td>\n",
       "      <td>0</td>\n",
       "    </tr>\n",
       "    <tr>\n",
       "      <th>3</th>\n",
       "      <td>Burkina Faso (2010)</td>\n",
       "      <td>1.078176</td>\n",
       "      <td>4</td>\n",
       "      <td>15</td>\n",
       "      <td>4</td>\n",
       "      <td>0</td>\n",
       "      <td>0.0</td>\n",
       "      <td>0</td>\n",
       "      <td>1.0</td>\n",
       "      <td>1.0</td>\n",
       "      <td>1.0</td>\n",
       "      <td>1</td>\n",
       "      <td>0.0</td>\n",
       "      <td>0</td>\n",
       "    </tr>\n",
       "    <tr>\n",
       "      <th>4</th>\n",
       "      <td>Burkina Faso (2010)</td>\n",
       "      <td>1.078176</td>\n",
       "      <td>2</td>\n",
       "      <td>11</td>\n",
       "      <td>4</td>\n",
       "      <td>0</td>\n",
       "      <td>0.0</td>\n",
       "      <td>0</td>\n",
       "      <td>1.0</td>\n",
       "      <td>1.0</td>\n",
       "      <td>1.0</td>\n",
       "      <td>1</td>\n",
       "      <td>0.0</td>\n",
       "      <td>0</td>\n",
       "    </tr>\n",
       "  </tbody>\n",
       "</table>\n",
       "</div>"
      ],
      "text/plain": [
       "               Country  Survey weights  Child age  Mother's age  \\\n",
       "0  Burkina Faso (2010)        0.730967          0            26   \n",
       "1  Burkina Faso (2010)        0.730967          4            26   \n",
       "2  Burkina Faso (2010)        1.078176          1            15   \n",
       "3  Burkina Faso (2010)        1.078176          4            15   \n",
       "4  Burkina Faso (2010)        1.078176          2            11   \n",
       "\n",
       "   Household size continuous  Wealth  Mother education  Child's gender  \\\n",
       "0                          7       0               0.0               0   \n",
       "1                          7       0               0.0               0   \n",
       "2                          4       0               0.0               0   \n",
       "3                          4       0               0.0               0   \n",
       "4                          4       0               0.0               0   \n",
       "\n",
       "   Mother BMI status  breastfeeding  Married  Rural  diarrhea  multiple birth  \n",
       "0                1.0            1.0      1.0      1       0.0               0  \n",
       "1                1.0            1.0      1.0      1       0.0               0  \n",
       "2                1.0            1.0      1.0      1       0.0               0  \n",
       "3                1.0            1.0      1.0      1       0.0               0  \n",
       "4                1.0            1.0      1.0      1       0.0               0  "
      ]
     },
     "execution_count": 34,
     "metadata": {},
     "output_type": "execute_result"
    }
   ],
   "source": [
    "dummy.head()"
   ]
  },
  {
   "cell_type": "code",
   "execution_count": 35,
   "id": "8bffcb67",
   "metadata": {},
   "outputs": [
    {
     "data": {
      "text/plain": [
       "Country                      0\n",
       "Survey weights               0\n",
       "Child age                    0\n",
       "Mother's age                 0\n",
       "Household size continuous    0\n",
       "Wealth                       0\n",
       "Mother education             0\n",
       "Child's gender               0\n",
       "Mother BMI status            0\n",
       "breastfeeding                0\n",
       "Married                      0\n",
       "Rural                        0\n",
       "diarrhea                     0\n",
       "multiple birth               0\n",
       "dtype: int64"
      ]
     },
     "execution_count": 35,
     "metadata": {},
     "output_type": "execute_result"
    }
   ],
   "source": [
    "dummy.isnull().sum()"
   ]
  },
  {
   "cell_type": "markdown",
   "id": "e9f516cf",
   "metadata": {},
   "source": [
    "#  Linearity"
   ]
  },
  {
   "cell_type": "code",
   "execution_count": 36,
   "id": "ca3d68a0",
   "metadata": {},
   "outputs": [
    {
     "data": {
      "image/png": "[encoded data removed]",
      "text/plain": [
       "<Figure size 432x288 with 3 Axes>"
      ]
     },
     "metadata": {
      "needs_background": "light"
     },
     "output_type": "display_data"
    }
   ],
   "source": [
    "f,(ax1,ax2,ax3)=plt.subplots(1,3,sharey=True)\n",
    "ax1.scatter(dummy['Child age'],dummy['diarrhea'])\n",
    "ax1.set_title('Child age and Diarrhea')\n",
    "ax2.scatter(dummy['Mother\\'s age'],dummy['diarrhea'])\n",
    "ax2.set_title('Mother\\'s age and diarrhea')\n",
    "ax3.scatter(dummy['Household size continuous'],dummy['diarrhea'])\n",
    "ax3.set_title('Household size and Diarrhea')\n",
    "plt.show()"
   ]
  },
  {
   "cell_type": "markdown",
   "id": "78ae2637",
   "metadata": {},
   "source": [
    "# Sampling since the data is heavily unbalanced"
   ]
  },
  {
   "cell_type": "code",
   "execution_count": 37,
   "id": "b167c254",
   "metadata": {},
   "outputs": [],
   "source": [
    "d1=dummy[dummy.diarrhea==1]\n",
    "d0=dummy[dummy.diarrhea==0]"
   ]
  },
  {
   "cell_type": "code",
   "execution_count": 38,
   "id": "aa5c1990",
   "metadata": {},
   "outputs": [
    {
     "data": {
      "text/plain": [
       "(2002, 14)"
      ]
     },
     "execution_count": 38,
     "metadata": {},
     "output_type": "execute_result"
    }
   ],
   "source": [
    "d1.shape"
   ]
  },
  {
   "cell_type": "code",
   "execution_count": 39,
   "id": "422b4798",
   "metadata": {},
   "outputs": [
    {
     "data": {
      "text/plain": [
       "(11568, 14)"
      ]
     },
     "execution_count": 39,
     "metadata": {},
     "output_type": "execute_result"
    }
   ],
   "source": [
    "d0.shape"
   ]
  },
  {
   "cell_type": "code",
   "execution_count": 40,
   "id": "2aad9a94",
   "metadata": {},
   "outputs": [],
   "source": [
    "d0_sample=d0.sample(n=2500)"
   ]
  },
  {
   "cell_type": "code",
   "execution_count": 41,
   "id": "aef0d883",
   "metadata": {},
   "outputs": [],
   "source": [
    "new=pd.concat([d0_sample,d1],axis=0)"
   ]
  },
  {
   "cell_type": "code",
   "execution_count": 42,
   "id": "27b02e11",
   "metadata": {},
   "outputs": [
    {
     "data": {
      "text/html": [
       "<div>\n",
       "<style scoped>\n",
       "    .dataframe tbody tr th:only-of-type {\n",
       "        vertical-align: middle;\n",
       "    }\n",
       "\n",
       "    .dataframe tbody tr th {\n",
       "        vertical-align: top;\n",
       "    }\n",
       "\n",
       "    .dataframe thead th {\n",
       "        text-align: right;\n",
       "    }\n",
       "</style>\n",
       "<table border=\"1\" class=\"dataframe\">\n",
       "  <thead>\n",
       "    <tr style=\"text-align: right;\">\n",
       "      <th></th>\n",
       "      <th>Country</th>\n",
       "      <th>Survey weights</th>\n",
       "      <th>Child age</th>\n",
       "      <th>Mother's age</th>\n",
       "      <th>Household size continuous</th>\n",
       "      <th>Wealth</th>\n",
       "      <th>Mother education</th>\n",
       "      <th>Child's gender</th>\n",
       "      <th>Mother BMI status</th>\n",
       "      <th>breastfeeding</th>\n",
       "      <th>Married</th>\n",
       "      <th>Rural</th>\n",
       "      <th>diarrhea</th>\n",
       "      <th>multiple birth</th>\n",
       "    </tr>\n",
       "  </thead>\n",
       "  <tbody>\n",
       "    <tr>\n",
       "      <th>4088</th>\n",
       "      <td>Burkina Faso (2010)</td>\n",
       "      <td>1.218532</td>\n",
       "      <td>1</td>\n",
       "      <td>14</td>\n",
       "      <td>3</td>\n",
       "      <td>0</td>\n",
       "      <td>0.0</td>\n",
       "      <td>1</td>\n",
       "      <td>1.0</td>\n",
       "      <td>1.0</td>\n",
       "      <td>1.0</td>\n",
       "      <td>1</td>\n",
       "      <td>0.0</td>\n",
       "      <td>0</td>\n",
       "    </tr>\n",
       "    <tr>\n",
       "      <th>8971</th>\n",
       "      <td>Burkina Faso (2010)</td>\n",
       "      <td>1.257122</td>\n",
       "      <td>1</td>\n",
       "      <td>20</td>\n",
       "      <td>7</td>\n",
       "      <td>2</td>\n",
       "      <td>0.0</td>\n",
       "      <td>0</td>\n",
       "      <td>1.0</td>\n",
       "      <td>1.0</td>\n",
       "      <td>1.0</td>\n",
       "      <td>1</td>\n",
       "      <td>0.0</td>\n",
       "      <td>0</td>\n",
       "    </tr>\n",
       "    <tr>\n",
       "      <th>6957</th>\n",
       "      <td>Burkina Faso (2010)</td>\n",
       "      <td>0.302848</td>\n",
       "      <td>4</td>\n",
       "      <td>31</td>\n",
       "      <td>10</td>\n",
       "      <td>0</td>\n",
       "      <td>0.0</td>\n",
       "      <td>0</td>\n",
       "      <td>1.0</td>\n",
       "      <td>1.0</td>\n",
       "      <td>1.0</td>\n",
       "      <td>0</td>\n",
       "      <td>0.0</td>\n",
       "      <td>0</td>\n",
       "    </tr>\n",
       "    <tr>\n",
       "      <th>2885</th>\n",
       "      <td>Burkina Faso (2010)</td>\n",
       "      <td>1.606223</td>\n",
       "      <td>1</td>\n",
       "      <td>27</td>\n",
       "      <td>15</td>\n",
       "      <td>0</td>\n",
       "      <td>0.0</td>\n",
       "      <td>1</td>\n",
       "      <td>1.0</td>\n",
       "      <td>1.0</td>\n",
       "      <td>1.0</td>\n",
       "      <td>1</td>\n",
       "      <td>0.0</td>\n",
       "      <td>0</td>\n",
       "    </tr>\n",
       "    <tr>\n",
       "      <th>1390</th>\n",
       "      <td>Burkina Faso (2010)</td>\n",
       "      <td>1.235703</td>\n",
       "      <td>2</td>\n",
       "      <td>20</td>\n",
       "      <td>7</td>\n",
       "      <td>1</td>\n",
       "      <td>0.0</td>\n",
       "      <td>1</td>\n",
       "      <td>1.0</td>\n",
       "      <td>1.0</td>\n",
       "      <td>1.0</td>\n",
       "      <td>1</td>\n",
       "      <td>0.0</td>\n",
       "      <td>0</td>\n",
       "    </tr>\n",
       "  </tbody>\n",
       "</table>\n",
       "</div>"
      ],
      "text/plain": [
       "                  Country  Survey weights  Child age  Mother's age  \\\n",
       "4088  Burkina Faso (2010)        1.218532          1            14   \n",
       "8971  Burkina Faso (2010)        1.257122          1            20   \n",
       "6957  Burkina Faso (2010)        0.302848          4            31   \n",
       "2885  Burkina Faso (2010)        1.606223          1            27   \n",
       "1390  Burkina Faso (2010)        1.235703          2            20   \n",
       "\n",
       "      Household size continuous  Wealth  Mother education  Child's gender  \\\n",
       "4088                          3       0               0.0               1   \n",
       "8971                          7       2               0.0               0   \n",
       "6957                         10       0               0.0               0   \n",
       "2885                         15       0               0.0               1   \n",
       "1390                          7       1               0.0               1   \n",
       "\n",
       "      Mother BMI status  breastfeeding  Married  Rural  diarrhea  \\\n",
       "4088                1.0            1.0      1.0      1       0.0   \n",
       "8971                1.0            1.0      1.0      1       0.0   \n",
       "6957                1.0            1.0      1.0      0       0.0   \n",
       "2885                1.0            1.0      1.0      1       0.0   \n",
       "1390                1.0            1.0      1.0      1       0.0   \n",
       "\n",
       "      multiple birth  \n",
       "4088               0  \n",
       "8971               0  \n",
       "6957               0  \n",
       "2885               0  \n",
       "1390               0  "
      ]
     },
     "execution_count": 42,
     "metadata": {},
     "output_type": "execute_result"
    }
   ],
   "source": [
    "new.head()"
   ]
  },
  {
   "cell_type": "code",
   "execution_count": 43,
   "id": "3fc9bac9",
   "metadata": {},
   "outputs": [
    {
     "data": {
      "text/plain": [
       "(4502, 14)"
      ]
     },
     "execution_count": 43,
     "metadata": {},
     "output_type": "execute_result"
    }
   ],
   "source": [
    "new.shape"
   ]
  },
  {
   "cell_type": "code",
   "execution_count": 44,
   "id": "f076083e",
   "metadata": {},
   "outputs": [
    {
     "data": {
      "text/plain": [
       "<AxesSubplot:>"
      ]
     },
     "execution_count": 44,
     "metadata": {},
     "output_type": "execute_result"
    },
    {
     "data": {
      "image/png": "[encoded data removed]",
      "text/plain": [
       "<Figure size 792x432 with 2 Axes>"
      ]
     },
     "metadata": {
      "needs_background": "light"
     },
     "output_type": "display_data"
    }
   ],
   "source": [
    "correlation=new.corr()\n",
    "plt.figure(figsize=(11,6))\n",
    "sns.heatmap(correlation,annot=True,cmap='Blues')"
   ]
  },
  {
   "cell_type": "markdown",
   "id": "5eece6b3",
   "metadata": {},
   "source": [
    "# Declaring our variables"
   ]
  },
  {
   "cell_type": "code",
   "execution_count": 45,
   "id": "a957bb07",
   "metadata": {},
   "outputs": [],
   "source": [
    "x=new[['Survey weights', 'Child age', 'Mother\\'s age',\n",
    "       'Household size continuous', 'Wealth', 'Mother education',\n",
    "       'Child\\'s gender', 'Mother BMI status', 'breastfeeding', 'Married',\n",
    "       'Rural', 'multiple birth']]\n",
    "y=new['diarrhea']"
   ]
  },
  {
   "cell_type": "markdown",
   "id": "0ccd4736",
   "metadata": {},
   "source": [
    "# Split into training and testing data"
   ]
  },
  {
   "cell_type": "code",
   "execution_count": 46,
   "id": "b7bb6080",
   "metadata": {},
   "outputs": [],
   "source": [
    "x_train, x_test, y_train, y_test = train_test_split(x, y, test_size=0.30, random_state=42,stratify=y)"
   ]
  },
  {
   "cell_type": "markdown",
   "id": "fb5e1a30",
   "metadata": {},
   "source": [
    "# Feature scaling"
   ]
  },
  {
   "cell_type": "code",
   "execution_count": 47,
   "id": "435adff0",
   "metadata": {},
   "outputs": [],
   "source": [
    "from sklearn.preprocessing import StandardScaler"
   ]
  },
  {
   "cell_type": "code",
   "execution_count": 48,
   "id": "f4c7058c",
   "metadata": {},
   "outputs": [],
   "source": [
    "ss=StandardScaler()"
   ]
  },
  {
   "cell_type": "code",
   "execution_count": 49,
   "id": "4b098941",
   "metadata": {},
   "outputs": [
    {
     "data": {
      "text/plain": [
       "StandardScaler()"
      ]
     },
     "execution_count": 49,
     "metadata": {},
     "output_type": "execute_result"
    }
   ],
   "source": [
    "ss.fit(x_train)"
   ]
  },
  {
   "cell_type": "code",
   "execution_count": 50,
   "id": "0b1d7dc9",
   "metadata": {},
   "outputs": [],
   "source": [
    "x_train=ss.transform(x_train)\n",
    "x_test=ss.transform(x_test)"
   ]
  },
  {
   "cell_type": "markdown",
   "id": "8cf76e4b",
   "metadata": {},
   "source": [
    "# Logistic Regression"
   ]
  },
  {
   "cell_type": "markdown",
   "id": "0333b3fb",
   "metadata": {},
   "source": [
    "# Fitting our model"
   ]
  },
  {
   "cell_type": "code",
   "execution_count": 51,
   "id": "c1741d7a",
   "metadata": {},
   "outputs": [
    {
     "data": {
      "text/plain": [
       "LogisticRegression()"
      ]
     },
     "execution_count": 51,
     "metadata": {},
     "output_type": "execute_result"
    }
   ],
   "source": [
    "from sklearn.linear_model import LogisticRegression\n",
    "ml=LogisticRegression()\n",
    "ml.fit(x_train,y_train)"
   ]
  },
  {
   "cell_type": "markdown",
   "id": "0fa98c1f",
   "metadata": {},
   "source": [
    "# Prediction"
   ]
  },
  {
   "cell_type": "code",
   "execution_count": 52,
   "id": "35ae0de8",
   "metadata": {},
   "outputs": [
    {
     "data": {
      "text/plain": [
       "array([0., 1., 0., ..., 0., 0., 0.])"
      ]
     },
     "execution_count": 52,
     "metadata": {},
     "output_type": "execute_result"
    }
   ],
   "source": [
    "predictions=ml.predict(x_test)\n",
    "predictions"
   ]
  },
  {
   "cell_type": "code",
   "execution_count": 53,
   "id": "ce1d408d",
   "metadata": {},
   "outputs": [
    {
     "data": {
      "text/html": [
       "<div>\n",
       "<style scoped>\n",
       "    .dataframe tbody tr th:only-of-type {\n",
       "        vertical-align: middle;\n",
       "    }\n",
       "\n",
       "    .dataframe tbody tr th {\n",
       "        vertical-align: top;\n",
       "    }\n",
       "\n",
       "    .dataframe thead th {\n",
       "        text-align: right;\n",
       "    }\n",
       "</style>\n",
       "<table border=\"1\" class=\"dataframe\">\n",
       "  <thead>\n",
       "    <tr style=\"text-align: right;\">\n",
       "      <th></th>\n",
       "      <th>Actual</th>\n",
       "      <th>Predicted</th>\n",
       "    </tr>\n",
       "  </thead>\n",
       "  <tbody>\n",
       "    <tr>\n",
       "      <th>1789</th>\n",
       "      <td>0.0</td>\n",
       "      <td>0.0</td>\n",
       "    </tr>\n",
       "    <tr>\n",
       "      <th>2786</th>\n",
       "      <td>0.0</td>\n",
       "      <td>1.0</td>\n",
       "    </tr>\n",
       "    <tr>\n",
       "      <th>5032</th>\n",
       "      <td>1.0</td>\n",
       "      <td>0.0</td>\n",
       "    </tr>\n",
       "    <tr>\n",
       "      <th>5601</th>\n",
       "      <td>1.0</td>\n",
       "      <td>0.0</td>\n",
       "    </tr>\n",
       "    <tr>\n",
       "      <th>7103</th>\n",
       "      <td>1.0</td>\n",
       "      <td>0.0</td>\n",
       "    </tr>\n",
       "    <tr>\n",
       "      <th>...</th>\n",
       "      <td>...</td>\n",
       "      <td>...</td>\n",
       "    </tr>\n",
       "    <tr>\n",
       "      <th>9516</th>\n",
       "      <td>0.0</td>\n",
       "      <td>0.0</td>\n",
       "    </tr>\n",
       "    <tr>\n",
       "      <th>5686</th>\n",
       "      <td>1.0</td>\n",
       "      <td>0.0</td>\n",
       "    </tr>\n",
       "    <tr>\n",
       "      <th>9948</th>\n",
       "      <td>0.0</td>\n",
       "      <td>0.0</td>\n",
       "    </tr>\n",
       "    <tr>\n",
       "      <th>4514</th>\n",
       "      <td>0.0</td>\n",
       "      <td>0.0</td>\n",
       "    </tr>\n",
       "    <tr>\n",
       "      <th>1756</th>\n",
       "      <td>1.0</td>\n",
       "      <td>0.0</td>\n",
       "    </tr>\n",
       "  </tbody>\n",
       "</table>\n",
       "<p>1351 rows × 2 columns</p>\n",
       "</div>"
      ],
      "text/plain": [
       "      Actual  Predicted\n",
       "1789     0.0        0.0\n",
       "2786     0.0        1.0\n",
       "5032     1.0        0.0\n",
       "5601     1.0        0.0\n",
       "7103     1.0        0.0\n",
       "...      ...        ...\n",
       "9516     0.0        0.0\n",
       "5686     1.0        0.0\n",
       "9948     0.0        0.0\n",
       "4514     0.0        0.0\n",
       "1756     1.0        0.0\n",
       "\n",
       "[1351 rows x 2 columns]"
      ]
     },
     "execution_count": 53,
     "metadata": {},
     "output_type": "execute_result"
    }
   ],
   "source": [
    "compare=pd.DataFrame({'Actual':y_test,'Predicted':predictions})\n",
    "compare"
   ]
  },
  {
   "cell_type": "markdown",
   "id": "5078cb68",
   "metadata": {},
   "source": [
    "# Classification Report"
   ]
  },
  {
   "cell_type": "code",
   "execution_count": 54,
   "id": "e909cc3d",
   "metadata": {},
   "outputs": [
    {
     "name": "stdout",
     "output_type": "stream",
     "text": [
      "              precision    recall  f1-score   support\n",
      "\n",
      "         0.0       0.59      0.70      0.64       750\n",
      "         1.0       0.52      0.40      0.45       601\n",
      "\n",
      "    accuracy                           0.57      1351\n",
      "   macro avg       0.56      0.55      0.55      1351\n",
      "weighted avg       0.56      0.57      0.56      1351\n",
      "\n"
     ]
    }
   ],
   "source": [
    "from sklearn.metrics import classification_report\n",
    "print(classification_report(y_test, predictions))"
   ]
  },
  {
   "cell_type": "markdown",
   "id": "f81c9701",
   "metadata": {},
   "source": [
    "# Confusion Matrix"
   ]
  },
  {
   "cell_type": "code",
   "execution_count": 55,
   "id": "65f195af",
   "metadata": {},
   "outputs": [
    {
     "data": {
      "text/html": [
       "<div>\n",
       "<style scoped>\n",
       "    .dataframe tbody tr th:only-of-type {\n",
       "        vertical-align: middle;\n",
       "    }\n",
       "\n",
       "    .dataframe tbody tr th {\n",
       "        vertical-align: top;\n",
       "    }\n",
       "\n",
       "    .dataframe thead th {\n",
       "        text-align: right;\n",
       "    }\n",
       "</style>\n",
       "<table border=\"1\" class=\"dataframe\">\n",
       "  <thead>\n",
       "    <tr style=\"text-align: right;\">\n",
       "      <th></th>\n",
       "      <th>Predicted 0</th>\n",
       "      <th>Predicted 1</th>\n",
       "    </tr>\n",
       "  </thead>\n",
       "  <tbody>\n",
       "    <tr>\n",
       "      <th>Actual 0</th>\n",
       "      <td>528</td>\n",
       "      <td>222</td>\n",
       "    </tr>\n",
       "    <tr>\n",
       "      <th>Actual 1</th>\n",
       "      <td>360</td>\n",
       "      <td>241</td>\n",
       "    </tr>\n",
       "  </tbody>\n",
       "</table>\n",
       "</div>"
      ],
      "text/plain": [
       "          Predicted 0  Predicted 1\n",
       "Actual 0          528          222\n",
       "Actual 1          360          241"
      ]
     },
     "execution_count": 55,
     "metadata": {},
     "output_type": "execute_result"
    }
   ],
   "source": [
    "from sklearn.metrics import confusion_matrix\n",
    "PRED=pd.DataFrame(confusion_matrix(y_test, predictions))\n",
    "PRED.columns=['Predicted 0','Predicted 1']\n",
    "PRED=PRED.rename(index={0:'Actual 0',1:'Actual 1'})\n",
    "PRED"
   ]
  },
  {
   "cell_type": "code",
   "execution_count": 56,
   "id": "95cab59a",
   "metadata": {},
   "outputs": [
    {
     "data": {
      "text/plain": [
       "0.0    0.555379\n",
       "1.0    0.444621\n",
       "Name: diarrhea, dtype: float64"
      ]
     },
     "execution_count": 56,
     "metadata": {},
     "output_type": "execute_result"
    }
   ],
   "source": [
    "y_train.value_counts(normalize=True)"
   ]
  },
  {
   "cell_type": "code",
   "execution_count": 57,
   "id": "a5114ce1",
   "metadata": {},
   "outputs": [
    {
     "data": {
      "text/plain": [
       "array([0.])"
      ]
     },
     "execution_count": 57,
     "metadata": {},
     "output_type": "execute_result"
    }
   ],
   "source": [
    "ml.predict(np.array([[0.730967,4,24,1,0.0,1,1.0,1,0,1.0,1.0,1]]))"
   ]
  },
  {
   "cell_type": "markdown",
   "id": "8c701afd",
   "metadata": {},
   "source": [
    "# Support Vector Classifier"
   ]
  },
  {
   "cell_type": "code",
   "execution_count": 58,
   "id": "b39daef4",
   "metadata": {},
   "outputs": [
    {
     "data": {
      "text/plain": [
       "SVC()"
      ]
     },
     "execution_count": 58,
     "metadata": {},
     "output_type": "execute_result"
    }
   ],
   "source": [
    "from sklearn.svm import SVC\n",
    "svc=SVC()\n",
    "svc.fit(x_train,y_train)"
   ]
  },
  {
   "cell_type": "code",
   "execution_count": 59,
   "id": "56f98fcc",
   "metadata": {},
   "outputs": [
    {
     "data": {
      "text/plain": [
       "array([0., 1., 0., ..., 0., 0., 1.])"
      ]
     },
     "execution_count": 59,
     "metadata": {},
     "output_type": "execute_result"
    }
   ],
   "source": [
    "pre=svc.predict(x_test)\n",
    "pre"
   ]
  },
  {
   "cell_type": "code",
   "execution_count": null,
   "id": "f8e02b50",
   "metadata": {},
   "outputs": [],
   "source": []
  },
  {
   "cell_type": "code",
   "execution_count": 60,
   "id": "83d70150",
   "metadata": {},
   "outputs": [
    {
     "data": {
      "text/html": [
       "<div>\n",
       "<style scoped>\n",
       "    .dataframe tbody tr th:only-of-type {\n",
       "        vertical-align: middle;\n",
       "    }\n",
       "\n",
       "    .dataframe tbody tr th {\n",
       "        vertical-align: top;\n",
       "    }\n",
       "\n",
       "    .dataframe thead th {\n",
       "        text-align: right;\n",
       "    }\n",
       "</style>\n",
       "<table border=\"1\" class=\"dataframe\">\n",
       "  <thead>\n",
       "    <tr style=\"text-align: right;\">\n",
       "      <th></th>\n",
       "      <th>Actual</th>\n",
       "      <th>Predicted</th>\n",
       "    </tr>\n",
       "  </thead>\n",
       "  <tbody>\n",
       "    <tr>\n",
       "      <th>1789</th>\n",
       "      <td>0.0</td>\n",
       "      <td>0.0</td>\n",
       "    </tr>\n",
       "    <tr>\n",
       "      <th>2786</th>\n",
       "      <td>0.0</td>\n",
       "      <td>1.0</td>\n",
       "    </tr>\n",
       "    <tr>\n",
       "      <th>5032</th>\n",
       "      <td>1.0</td>\n",
       "      <td>0.0</td>\n",
       "    </tr>\n",
       "    <tr>\n",
       "      <th>5601</th>\n",
       "      <td>1.0</td>\n",
       "      <td>0.0</td>\n",
       "    </tr>\n",
       "    <tr>\n",
       "      <th>7103</th>\n",
       "      <td>1.0</td>\n",
       "      <td>0.0</td>\n",
       "    </tr>\n",
       "    <tr>\n",
       "      <th>...</th>\n",
       "      <td>...</td>\n",
       "      <td>...</td>\n",
       "    </tr>\n",
       "    <tr>\n",
       "      <th>9516</th>\n",
       "      <td>0.0</td>\n",
       "      <td>1.0</td>\n",
       "    </tr>\n",
       "    <tr>\n",
       "      <th>5686</th>\n",
       "      <td>1.0</td>\n",
       "      <td>0.0</td>\n",
       "    </tr>\n",
       "    <tr>\n",
       "      <th>9948</th>\n",
       "      <td>0.0</td>\n",
       "      <td>0.0</td>\n",
       "    </tr>\n",
       "    <tr>\n",
       "      <th>4514</th>\n",
       "      <td>0.0</td>\n",
       "      <td>0.0</td>\n",
       "    </tr>\n",
       "    <tr>\n",
       "      <th>1756</th>\n",
       "      <td>1.0</td>\n",
       "      <td>1.0</td>\n",
       "    </tr>\n",
       "  </tbody>\n",
       "</table>\n",
       "<p>1351 rows × 2 columns</p>\n",
       "</div>"
      ],
      "text/plain": [
       "      Actual  Predicted\n",
       "1789     0.0        0.0\n",
       "2786     0.0        1.0\n",
       "5032     1.0        0.0\n",
       "5601     1.0        0.0\n",
       "7103     1.0        0.0\n",
       "...      ...        ...\n",
       "9516     0.0        1.0\n",
       "5686     1.0        0.0\n",
       "9948     0.0        0.0\n",
       "4514     0.0        0.0\n",
       "1756     1.0        1.0\n",
       "\n",
       "[1351 rows x 2 columns]"
      ]
     },
     "execution_count": 60,
     "metadata": {},
     "output_type": "execute_result"
    }
   ],
   "source": [
    "comp=pd.DataFrame({'Actual':y_test,'Predicted':pre})\n",
    "comp"
   ]
  },
  {
   "cell_type": "markdown",
   "id": "aaec08a2",
   "metadata": {},
   "source": [
    "# Classification Report"
   ]
  },
  {
   "cell_type": "code",
   "execution_count": 61,
   "id": "5fcdae6b",
   "metadata": {},
   "outputs": [
    {
     "name": "stdout",
     "output_type": "stream",
     "text": [
      "              precision    recall  f1-score   support\n",
      "\n",
      "         0.0       0.60      0.74      0.66       750\n",
      "         1.0       0.53      0.38      0.44       601\n",
      "\n",
      "    accuracy                           0.58      1351\n",
      "   macro avg       0.56      0.56      0.55      1351\n",
      "weighted avg       0.57      0.58      0.56      1351\n",
      "\n"
     ]
    }
   ],
   "source": [
    "print(classification_report(y_test, pre))"
   ]
  },
  {
   "cell_type": "markdown",
   "id": "271bcad0",
   "metadata": {},
   "source": [
    "# Confusion Matrix"
   ]
  },
  {
   "cell_type": "code",
   "execution_count": 62,
   "id": "3071d6df",
   "metadata": {},
   "outputs": [
    {
     "data": {
      "text/html": [
       "<div>\n",
       "<style scoped>\n",
       "    .dataframe tbody tr th:only-of-type {\n",
       "        vertical-align: middle;\n",
       "    }\n",
       "\n",
       "    .dataframe tbody tr th {\n",
       "        vertical-align: top;\n",
       "    }\n",
       "\n",
       "    .dataframe thead th {\n",
       "        text-align: right;\n",
       "    }\n",
       "</style>\n",
       "<table border=\"1\" class=\"dataframe\">\n",
       "  <thead>\n",
       "    <tr style=\"text-align: right;\">\n",
       "      <th></th>\n",
       "      <th>Predicted 0</th>\n",
       "      <th>Predicted 1</th>\n",
       "    </tr>\n",
       "  </thead>\n",
       "  <tbody>\n",
       "    <tr>\n",
       "      <th>Actual 0</th>\n",
       "      <td>552</td>\n",
       "      <td>198</td>\n",
       "    </tr>\n",
       "    <tr>\n",
       "      <th>Actual 1</th>\n",
       "      <td>375</td>\n",
       "      <td>226</td>\n",
       "    </tr>\n",
       "  </tbody>\n",
       "</table>\n",
       "</div>"
      ],
      "text/plain": [
       "          Predicted 0  Predicted 1\n",
       "Actual 0          552          198\n",
       "Actual 1          375          226"
      ]
     },
     "execution_count": 62,
     "metadata": {},
     "output_type": "execute_result"
    }
   ],
   "source": [
    "PRE=pd.DataFrame(confusion_matrix(y_test, pre))\n",
    "PRE.columns=['Predicted 0','Predicted 1']\n",
    "PRE=PRE.rename(index={0:'Actual 0',1:'Actual 1'})\n",
    "PRE"
   ]
  },
  {
   "cell_type": "code",
   "execution_count": null,
   "id": "be718292",
   "metadata": {},
   "outputs": [],
   "source": []
  },
  {
   "cell_type": "markdown",
   "id": "c68cd998",
   "metadata": {},
   "source": [
    "# Decision Tree Classifier"
   ]
  },
  {
   "cell_type": "code",
   "execution_count": 63,
   "id": "64a487fe",
   "metadata": {},
   "outputs": [
    {
     "data": {
      "text/plain": [
       "DecisionTreeClassifier()"
      ]
     },
     "execution_count": 63,
     "metadata": {},
     "output_type": "execute_result"
    }
   ],
   "source": [
    "from sklearn.tree import DecisionTreeClassifier\n",
    "model=DecisionTreeClassifier()\n",
    "model.fit(x_train,y_train)"
   ]
  },
  {
   "cell_type": "markdown",
   "id": "25ead47b",
   "metadata": {},
   "source": [
    "# Predict"
   ]
  },
  {
   "cell_type": "code",
   "execution_count": 64,
   "id": "022c08b0",
   "metadata": {},
   "outputs": [
    {
     "data": {
      "text/plain": [
       "array([1., 1., 0., ..., 1., 0., 0.])"
      ]
     },
     "execution_count": 64,
     "metadata": {},
     "output_type": "execute_result"
    }
   ],
   "source": [
    "y_pre=model.predict(x_test)\n",
    "y_pre"
   ]
  },
  {
   "cell_type": "markdown",
   "id": "e67602ba",
   "metadata": {},
   "source": [
    "# Comparing values"
   ]
  },
  {
   "cell_type": "code",
   "execution_count": 65,
   "id": "58ee8f2a",
   "metadata": {},
   "outputs": [
    {
     "data": {
      "text/html": [
       "<div>\n",
       "<style scoped>\n",
       "    .dataframe tbody tr th:only-of-type {\n",
       "        vertical-align: middle;\n",
       "    }\n",
       "\n",
       "    .dataframe tbody tr th {\n",
       "        vertical-align: top;\n",
       "    }\n",
       "\n",
       "    .dataframe thead th {\n",
       "        text-align: right;\n",
       "    }\n",
       "</style>\n",
       "<table border=\"1\" class=\"dataframe\">\n",
       "  <thead>\n",
       "    <tr style=\"text-align: right;\">\n",
       "      <th></th>\n",
       "      <th>Actual</th>\n",
       "      <th>Predicted</th>\n",
       "    </tr>\n",
       "  </thead>\n",
       "  <tbody>\n",
       "    <tr>\n",
       "      <th>1789</th>\n",
       "      <td>0.0</td>\n",
       "      <td>1.0</td>\n",
       "    </tr>\n",
       "    <tr>\n",
       "      <th>2786</th>\n",
       "      <td>0.0</td>\n",
       "      <td>1.0</td>\n",
       "    </tr>\n",
       "    <tr>\n",
       "      <th>5032</th>\n",
       "      <td>1.0</td>\n",
       "      <td>0.0</td>\n",
       "    </tr>\n",
       "    <tr>\n",
       "      <th>5601</th>\n",
       "      <td>1.0</td>\n",
       "      <td>0.0</td>\n",
       "    </tr>\n",
       "    <tr>\n",
       "      <th>7103</th>\n",
       "      <td>1.0</td>\n",
       "      <td>0.0</td>\n",
       "    </tr>\n",
       "    <tr>\n",
       "      <th>...</th>\n",
       "      <td>...</td>\n",
       "      <td>...</td>\n",
       "    </tr>\n",
       "    <tr>\n",
       "      <th>9516</th>\n",
       "      <td>0.0</td>\n",
       "      <td>1.0</td>\n",
       "    </tr>\n",
       "    <tr>\n",
       "      <th>5686</th>\n",
       "      <td>1.0</td>\n",
       "      <td>0.0</td>\n",
       "    </tr>\n",
       "    <tr>\n",
       "      <th>9948</th>\n",
       "      <td>0.0</td>\n",
       "      <td>1.0</td>\n",
       "    </tr>\n",
       "    <tr>\n",
       "      <th>4514</th>\n",
       "      <td>0.0</td>\n",
       "      <td>0.0</td>\n",
       "    </tr>\n",
       "    <tr>\n",
       "      <th>1756</th>\n",
       "      <td>1.0</td>\n",
       "      <td>0.0</td>\n",
       "    </tr>\n",
       "  </tbody>\n",
       "</table>\n",
       "<p>1351 rows × 2 columns</p>\n",
       "</div>"
      ],
      "text/plain": [
       "      Actual  Predicted\n",
       "1789     0.0        1.0\n",
       "2786     0.0        1.0\n",
       "5032     1.0        0.0\n",
       "5601     1.0        0.0\n",
       "7103     1.0        0.0\n",
       "...      ...        ...\n",
       "9516     0.0        1.0\n",
       "5686     1.0        0.0\n",
       "9948     0.0        1.0\n",
       "4514     0.0        0.0\n",
       "1756     1.0        0.0\n",
       "\n",
       "[1351 rows x 2 columns]"
      ]
     },
     "execution_count": 65,
     "metadata": {},
     "output_type": "execute_result"
    }
   ],
   "source": [
    "com=pd.DataFrame({'Actual':y_test,'Predicted':y_pre})\n",
    "com"
   ]
  },
  {
   "cell_type": "markdown",
   "id": "f0354807",
   "metadata": {},
   "source": [
    "# Classification Report"
   ]
  },
  {
   "cell_type": "code",
   "execution_count": 66,
   "id": "627c1d8b",
   "metadata": {},
   "outputs": [
    {
     "name": "stdout",
     "output_type": "stream",
     "text": [
      "              precision    recall  f1-score   support\n",
      "\n",
      "         0.0       0.60      0.57      0.59       750\n",
      "         1.0       0.49      0.52      0.51       601\n",
      "\n",
      "    accuracy                           0.55      1351\n",
      "   macro avg       0.55      0.55      0.55      1351\n",
      "weighted avg       0.55      0.55      0.55      1351\n",
      "\n"
     ]
    }
   ],
   "source": [
    "print(classification_report(y_test, y_pre))"
   ]
  },
  {
   "cell_type": "markdown",
   "id": "fe15c044",
   "metadata": {},
   "source": [
    "# Confusion Matrix"
   ]
  },
  {
   "cell_type": "code",
   "execution_count": 67,
   "id": "73c149b5",
   "metadata": {},
   "outputs": [
    {
     "data": {
      "text/html": [
       "<div>\n",
       "<style scoped>\n",
       "    .dataframe tbody tr th:only-of-type {\n",
       "        vertical-align: middle;\n",
       "    }\n",
       "\n",
       "    .dataframe tbody tr th {\n",
       "        vertical-align: top;\n",
       "    }\n",
       "\n",
       "    .dataframe thead th {\n",
       "        text-align: right;\n",
       "    }\n",
       "</style>\n",
       "<table border=\"1\" class=\"dataframe\">\n",
       "  <thead>\n",
       "    <tr style=\"text-align: right;\">\n",
       "      <th></th>\n",
       "      <th>Predicted 0</th>\n",
       "      <th>Predicted 1</th>\n",
       "    </tr>\n",
       "  </thead>\n",
       "  <tbody>\n",
       "    <tr>\n",
       "      <th>Actual 0</th>\n",
       "      <td>431</td>\n",
       "      <td>319</td>\n",
       "    </tr>\n",
       "    <tr>\n",
       "      <th>Actual 1</th>\n",
       "      <td>290</td>\n",
       "      <td>311</td>\n",
       "    </tr>\n",
       "  </tbody>\n",
       "</table>\n",
       "</div>"
      ],
      "text/plain": [
       "          Predicted 0  Predicted 1\n",
       "Actual 0          431          319\n",
       "Actual 1          290          311"
      ]
     },
     "execution_count": 67,
     "metadata": {},
     "output_type": "execute_result"
    }
   ],
   "source": [
    "y_PRE=pd.DataFrame(confusion_matrix(y_test, y_pre))\n",
    "y_PRE.columns=['Predicted 0','Predicted 1']\n",
    "y_PRE=y_PRE.rename(index={0:'Actual 0',1:'Actual 1'})\n",
    "y_PRE"
   ]
  }
 ],
 "metadata": {
  "kernelspec": {
   "display_name": "Python 3",
   "language": "python",
   "name": "python3"
  },
  "language_info": {
   "codemirror_mode": {
    "name": "ipython",
    "version": 3
   },
   "file_extension": ".py",
   "mimetype": "text/x-python",
   "name": "python",
   "nbconvert_exporter": "python",
   "pygments_lexer": "ipython3",
   "version": "3.8.8"
  }
 },
 "nbformat": 4,
 "nbformat_minor": 5
}
